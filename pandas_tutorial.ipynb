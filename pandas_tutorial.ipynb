{
 "cells": [
  {
   "cell_type": "markdown",
   "id": "2fb8ceae",
   "metadata": {},
   "source": [
    "# import pandas and numpy library"
   ]
  },
  {
   "cell_type": "code",
   "execution_count": 16,
   "id": "c231c2f2",
   "metadata": {},
   "outputs": [],
   "source": [
    "import pandas as pd\n",
    "import numpy as np"
   ]
  },
  {
   "cell_type": "code",
   "execution_count": 17,
   "id": "cb940404",
   "metadata": {},
   "outputs": [],
   "source": [
    "#creating a series\n",
    "s = pd.Series ([1,2,3,4,5,6,np.nan,8,9,10])"
   ]
  },
  {
   "cell_type": "code",
   "execution_count": 18,
   "id": "5bed7182",
   "metadata": {},
   "outputs": [
    {
     "data": {
      "text/plain": [
       "0     1.0\n",
       "1     2.0\n",
       "2     3.0\n",
       "3     4.0\n",
       "4     5.0\n",
       "5     6.0\n",
       "6     NaN\n",
       "7     8.0\n",
       "8     9.0\n",
       "9    10.0\n",
       "dtype: float64"
      ]
     },
     "execution_count": 18,
     "metadata": {},
     "output_type": "execute_result"
    }
   ],
   "source": [
    "s"
   ]
  },
  {
   "cell_type": "markdown",
   "id": "f81a4ce5",
   "metadata": {},
   "source": [
    "# creating a dataframe"
   ]
  },
  {
   "cell_type": "code",
   "execution_count": 19,
   "id": "8a154356",
   "metadata": {},
   "outputs": [],
   "source": [
    "\n",
    "d = pd.date_range('20200301', periods = 10)"
   ]
  },
  {
   "cell_type": "code",
   "execution_count": 20,
   "id": "7059e0a7",
   "metadata": {},
   "outputs": [
    {
     "data": {
      "text/plain": [
       "DatetimeIndex(['2020-03-01', '2020-03-02', '2020-03-03', '2020-03-04',\n",
       "               '2020-03-05', '2020-03-06', '2020-03-07', '2020-03-08',\n",
       "               '2020-03-09', '2020-03-10'],\n",
       "              dtype='datetime64[ns]', freq='D')"
      ]
     },
     "execution_count": 20,
     "metadata": {},
     "output_type": "execute_result"
    }
   ],
   "source": [
    "d"
   ]
  },
  {
   "cell_type": "code",
   "execution_count": 21,
   "id": "9d4cb36c",
   "metadata": {},
   "outputs": [],
   "source": [
    "df = pd.DataFrame(np.random.randn(10,4), index = d, columns = ['A','B','C','D'])"
   ]
  },
  {
   "cell_type": "code",
   "execution_count": 22,
   "id": "a3296a97",
   "metadata": {},
   "outputs": [
    {
     "data": {
      "text/html": [
       "<div>\n",
       "<style scoped>\n",
       "    .dataframe tbody tr th:only-of-type {\n",
       "        vertical-align: middle;\n",
       "    }\n",
       "\n",
       "    .dataframe tbody tr th {\n",
       "        vertical-align: top;\n",
       "    }\n",
       "\n",
       "    .dataframe thead th {\n",
       "        text-align: right;\n",
       "    }\n",
       "</style>\n",
       "<table border=\"1\" class=\"dataframe\">\n",
       "  <thead>\n",
       "    <tr style=\"text-align: right;\">\n",
       "      <th></th>\n",
       "      <th>A</th>\n",
       "      <th>B</th>\n",
       "      <th>C</th>\n",
       "      <th>D</th>\n",
       "    </tr>\n",
       "  </thead>\n",
       "  <tbody>\n",
       "    <tr>\n",
       "      <th>2020-03-01</th>\n",
       "      <td>0.218452</td>\n",
       "      <td>-1.117835</td>\n",
       "      <td>0.627170</td>\n",
       "      <td>0.036061</td>\n",
       "    </tr>\n",
       "    <tr>\n",
       "      <th>2020-03-02</th>\n",
       "      <td>1.177871</td>\n",
       "      <td>1.073089</td>\n",
       "      <td>0.022829</td>\n",
       "      <td>1.721355</td>\n",
       "    </tr>\n",
       "    <tr>\n",
       "      <th>2020-03-03</th>\n",
       "      <td>-2.520742</td>\n",
       "      <td>0.853793</td>\n",
       "      <td>0.574265</td>\n",
       "      <td>-2.063883</td>\n",
       "    </tr>\n",
       "    <tr>\n",
       "      <th>2020-03-04</th>\n",
       "      <td>0.761000</td>\n",
       "      <td>-0.256755</td>\n",
       "      <td>0.690346</td>\n",
       "      <td>-0.880438</td>\n",
       "    </tr>\n",
       "    <tr>\n",
       "      <th>2020-03-05</th>\n",
       "      <td>0.279220</td>\n",
       "      <td>-0.005334</td>\n",
       "      <td>-0.490968</td>\n",
       "      <td>-1.346226</td>\n",
       "    </tr>\n",
       "    <tr>\n",
       "      <th>2020-03-06</th>\n",
       "      <td>1.408994</td>\n",
       "      <td>0.149309</td>\n",
       "      <td>0.238073</td>\n",
       "      <td>-0.229853</td>\n",
       "    </tr>\n",
       "    <tr>\n",
       "      <th>2020-03-07</th>\n",
       "      <td>1.828160</td>\n",
       "      <td>0.999233</td>\n",
       "      <td>0.155802</td>\n",
       "      <td>-0.178435</td>\n",
       "    </tr>\n",
       "    <tr>\n",
       "      <th>2020-03-08</th>\n",
       "      <td>-0.340873</td>\n",
       "      <td>0.322319</td>\n",
       "      <td>0.325394</td>\n",
       "      <td>1.433204</td>\n",
       "    </tr>\n",
       "    <tr>\n",
       "      <th>2020-03-09</th>\n",
       "      <td>1.837476</td>\n",
       "      <td>0.600041</td>\n",
       "      <td>-0.556740</td>\n",
       "      <td>0.618797</td>\n",
       "    </tr>\n",
       "    <tr>\n",
       "      <th>2020-03-10</th>\n",
       "      <td>-0.067683</td>\n",
       "      <td>-1.694308</td>\n",
       "      <td>-0.389320</td>\n",
       "      <td>-0.112285</td>\n",
       "    </tr>\n",
       "  </tbody>\n",
       "</table>\n",
       "</div>"
      ],
      "text/plain": [
       "                   A         B         C         D\n",
       "2020-03-01  0.218452 -1.117835  0.627170  0.036061\n",
       "2020-03-02  1.177871  1.073089  0.022829  1.721355\n",
       "2020-03-03 -2.520742  0.853793  0.574265 -2.063883\n",
       "2020-03-04  0.761000 -0.256755  0.690346 -0.880438\n",
       "2020-03-05  0.279220 -0.005334 -0.490968 -1.346226\n",
       "2020-03-06  1.408994  0.149309  0.238073 -0.229853\n",
       "2020-03-07  1.828160  0.999233  0.155802 -0.178435\n",
       "2020-03-08 -0.340873  0.322319  0.325394  1.433204\n",
       "2020-03-09  1.837476  0.600041 -0.556740  0.618797\n",
       "2020-03-10 -0.067683 -1.694308 -0.389320 -0.112285"
      ]
     },
     "execution_count": 22,
     "metadata": {},
     "output_type": "execute_result"
    }
   ],
   "source": [
    "df"
   ]
  },
  {
   "cell_type": "code",
   "execution_count": 23,
   "id": "7309fc65",
   "metadata": {},
   "outputs": [],
   "source": [
    "d1 = pd.date_range('20220201', periods = 5)"
   ]
  },
  {
   "cell_type": "code",
   "execution_count": 24,
   "id": "26acb12d",
   "metadata": {},
   "outputs": [],
   "source": [
    "df1 = pd.DataFrame(np.random.randn(5,5), index = d1, columns = ['A','B','C','D','E'])"
   ]
  },
  {
   "cell_type": "code",
   "execution_count": 25,
   "id": "b7370533",
   "metadata": {},
   "outputs": [
    {
     "data": {
      "text/html": [
       "<div>\n",
       "<style scoped>\n",
       "    .dataframe tbody tr th:only-of-type {\n",
       "        vertical-align: middle;\n",
       "    }\n",
       "\n",
       "    .dataframe tbody tr th {\n",
       "        vertical-align: top;\n",
       "    }\n",
       "\n",
       "    .dataframe thead th {\n",
       "        text-align: right;\n",
       "    }\n",
       "</style>\n",
       "<table border=\"1\" class=\"dataframe\">\n",
       "  <thead>\n",
       "    <tr style=\"text-align: right;\">\n",
       "      <th></th>\n",
       "      <th>A</th>\n",
       "      <th>B</th>\n",
       "      <th>C</th>\n",
       "      <th>D</th>\n",
       "      <th>E</th>\n",
       "    </tr>\n",
       "  </thead>\n",
       "  <tbody>\n",
       "    <tr>\n",
       "      <th>2022-02-01</th>\n",
       "      <td>-0.740587</td>\n",
       "      <td>-0.196932</td>\n",
       "      <td>0.171855</td>\n",
       "      <td>0.901782</td>\n",
       "      <td>0.728348</td>\n",
       "    </tr>\n",
       "    <tr>\n",
       "      <th>2022-02-02</th>\n",
       "      <td>1.323707</td>\n",
       "      <td>0.771775</td>\n",
       "      <td>1.230909</td>\n",
       "      <td>0.451332</td>\n",
       "      <td>-0.170090</td>\n",
       "    </tr>\n",
       "    <tr>\n",
       "      <th>2022-02-03</th>\n",
       "      <td>-1.062940</td>\n",
       "      <td>0.454759</td>\n",
       "      <td>0.496440</td>\n",
       "      <td>0.041449</td>\n",
       "      <td>-0.036199</td>\n",
       "    </tr>\n",
       "    <tr>\n",
       "      <th>2022-02-04</th>\n",
       "      <td>-0.480088</td>\n",
       "      <td>-0.525745</td>\n",
       "      <td>-0.995064</td>\n",
       "      <td>0.009827</td>\n",
       "      <td>-0.757250</td>\n",
       "    </tr>\n",
       "    <tr>\n",
       "      <th>2022-02-05</th>\n",
       "      <td>0.299509</td>\n",
       "      <td>-0.082279</td>\n",
       "      <td>0.728138</td>\n",
       "      <td>-0.127391</td>\n",
       "      <td>-0.260813</td>\n",
       "    </tr>\n",
       "  </tbody>\n",
       "</table>\n",
       "</div>"
      ],
      "text/plain": [
       "                   A         B         C         D         E\n",
       "2022-02-01 -0.740587 -0.196932  0.171855  0.901782  0.728348\n",
       "2022-02-02  1.323707  0.771775  1.230909  0.451332 -0.170090\n",
       "2022-02-03 -1.062940  0.454759  0.496440  0.041449 -0.036199\n",
       "2022-02-04 -0.480088 -0.525745 -0.995064  0.009827 -0.757250\n",
       "2022-02-05  0.299509 -0.082279  0.728138 -0.127391 -0.260813"
      ]
     },
     "execution_count": 25,
     "metadata": {},
     "output_type": "execute_result"
    }
   ],
   "source": [
    "df1"
   ]
  },
  {
   "cell_type": "code",
   "execution_count": 26,
   "id": "47287683",
   "metadata": {},
   "outputs": [],
   "source": [
    "#Creating a Dataframe by passing a dictionary\n",
    "df2 = pd.DataFrame({\n",
    "    'A': [1,2,3,4],\n",
    "    'B':pd.Timestamp('20220201'),\n",
    "    'C':pd.Series(1, index = list(range(4)), dtype = 'float32'),\n",
    "    'D':np.array([5]*4, dtype = 'int32'),\n",
    "    'E': 'Edureka'\n",
    "})"
   ]
  },
  {
   "cell_type": "code",
   "execution_count": 27,
   "id": "37c7d3a1",
   "metadata": {},
   "outputs": [
    {
     "data": {
      "text/html": [
       "<div>\n",
       "<style scoped>\n",
       "    .dataframe tbody tr th:only-of-type {\n",
       "        vertical-align: middle;\n",
       "    }\n",
       "\n",
       "    .dataframe tbody tr th {\n",
       "        vertical-align: top;\n",
       "    }\n",
       "\n",
       "    .dataframe thead th {\n",
       "        text-align: right;\n",
       "    }\n",
       "</style>\n",
       "<table border=\"1\" class=\"dataframe\">\n",
       "  <thead>\n",
       "    <tr style=\"text-align: right;\">\n",
       "      <th></th>\n",
       "      <th>A</th>\n",
       "      <th>B</th>\n",
       "      <th>C</th>\n",
       "      <th>D</th>\n",
       "      <th>E</th>\n",
       "    </tr>\n",
       "  </thead>\n",
       "  <tbody>\n",
       "    <tr>\n",
       "      <th>0</th>\n",
       "      <td>1</td>\n",
       "      <td>2022-02-01</td>\n",
       "      <td>1.0</td>\n",
       "      <td>5</td>\n",
       "      <td>Edureka</td>\n",
       "    </tr>\n",
       "    <tr>\n",
       "      <th>1</th>\n",
       "      <td>2</td>\n",
       "      <td>2022-02-01</td>\n",
       "      <td>1.0</td>\n",
       "      <td>5</td>\n",
       "      <td>Edureka</td>\n",
       "    </tr>\n",
       "    <tr>\n",
       "      <th>2</th>\n",
       "      <td>3</td>\n",
       "      <td>2022-02-01</td>\n",
       "      <td>1.0</td>\n",
       "      <td>5</td>\n",
       "      <td>Edureka</td>\n",
       "    </tr>\n",
       "    <tr>\n",
       "      <th>3</th>\n",
       "      <td>4</td>\n",
       "      <td>2022-02-01</td>\n",
       "      <td>1.0</td>\n",
       "      <td>5</td>\n",
       "      <td>Edureka</td>\n",
       "    </tr>\n",
       "  </tbody>\n",
       "</table>\n",
       "</div>"
      ],
      "text/plain": [
       "   A          B    C  D        E\n",
       "0  1 2022-02-01  1.0  5  Edureka\n",
       "1  2 2022-02-01  1.0  5  Edureka\n",
       "2  3 2022-02-01  1.0  5  Edureka\n",
       "3  4 2022-02-01  1.0  5  Edureka"
      ]
     },
     "execution_count": 27,
     "metadata": {},
     "output_type": "execute_result"
    }
   ],
   "source": [
    "df2"
   ]
  },
  {
   "cell_type": "code",
   "execution_count": 28,
   "id": "b106c54b",
   "metadata": {},
   "outputs": [],
   "source": [
    "df3 = pd.DataFrame({\n",
    "    'A': [1,2,3,4,5],\n",
    "    'B':pd.date_range('20220201', periods = 5),\n",
    "    'C':pd.Series([1,2,3,4,5], dtype = 'float32'),\n",
    "    'D':np.array([8]*5, dtype = 'float64'),\n",
    "    'E': 'Edureka'\n",
    "})"
   ]
  },
  {
   "cell_type": "code",
   "execution_count": 29,
   "id": "07c3887c",
   "metadata": {},
   "outputs": [
    {
     "data": {
      "text/html": [
       "<div>\n",
       "<style scoped>\n",
       "    .dataframe tbody tr th:only-of-type {\n",
       "        vertical-align: middle;\n",
       "    }\n",
       "\n",
       "    .dataframe tbody tr th {\n",
       "        vertical-align: top;\n",
       "    }\n",
       "\n",
       "    .dataframe thead th {\n",
       "        text-align: right;\n",
       "    }\n",
       "</style>\n",
       "<table border=\"1\" class=\"dataframe\">\n",
       "  <thead>\n",
       "    <tr style=\"text-align: right;\">\n",
       "      <th></th>\n",
       "      <th>A</th>\n",
       "      <th>B</th>\n",
       "      <th>C</th>\n",
       "      <th>D</th>\n",
       "      <th>E</th>\n",
       "    </tr>\n",
       "  </thead>\n",
       "  <tbody>\n",
       "    <tr>\n",
       "      <th>0</th>\n",
       "      <td>1</td>\n",
       "      <td>2022-02-01</td>\n",
       "      <td>1.0</td>\n",
       "      <td>8.0</td>\n",
       "      <td>Edureka</td>\n",
       "    </tr>\n",
       "    <tr>\n",
       "      <th>1</th>\n",
       "      <td>2</td>\n",
       "      <td>2022-02-02</td>\n",
       "      <td>2.0</td>\n",
       "      <td>8.0</td>\n",
       "      <td>Edureka</td>\n",
       "    </tr>\n",
       "    <tr>\n",
       "      <th>2</th>\n",
       "      <td>3</td>\n",
       "      <td>2022-02-03</td>\n",
       "      <td>3.0</td>\n",
       "      <td>8.0</td>\n",
       "      <td>Edureka</td>\n",
       "    </tr>\n",
       "    <tr>\n",
       "      <th>3</th>\n",
       "      <td>4</td>\n",
       "      <td>2022-02-04</td>\n",
       "      <td>4.0</td>\n",
       "      <td>8.0</td>\n",
       "      <td>Edureka</td>\n",
       "    </tr>\n",
       "    <tr>\n",
       "      <th>4</th>\n",
       "      <td>5</td>\n",
       "      <td>2022-02-05</td>\n",
       "      <td>5.0</td>\n",
       "      <td>8.0</td>\n",
       "      <td>Edureka</td>\n",
       "    </tr>\n",
       "  </tbody>\n",
       "</table>\n",
       "</div>"
      ],
      "text/plain": [
       "   A          B    C    D        E\n",
       "0  1 2022-02-01  1.0  8.0  Edureka\n",
       "1  2 2022-02-02  2.0  8.0  Edureka\n",
       "2  3 2022-02-03  3.0  8.0  Edureka\n",
       "3  4 2022-02-04  4.0  8.0  Edureka\n",
       "4  5 2022-02-05  5.0  8.0  Edureka"
      ]
     },
     "execution_count": 29,
     "metadata": {},
     "output_type": "execute_result"
    }
   ],
   "source": [
    "df3"
   ]
  },
  {
   "cell_type": "code",
   "execution_count": 30,
   "id": "ea5deaac",
   "metadata": {},
   "outputs": [
    {
     "data": {
      "text/plain": [
       "A             int64\n",
       "B    datetime64[ns]\n",
       "C           float32\n",
       "D           float64\n",
       "E            object\n",
       "dtype: object"
      ]
     },
     "execution_count": 30,
     "metadata": {},
     "output_type": "execute_result"
    }
   ],
   "source": [
    "df3.dtypes"
   ]
  },
  {
   "cell_type": "code",
   "execution_count": 31,
   "id": "98ac67a3",
   "metadata": {},
   "outputs": [
    {
     "data": {
      "text/html": [
       "<div>\n",
       "<style scoped>\n",
       "    .dataframe tbody tr th:only-of-type {\n",
       "        vertical-align: middle;\n",
       "    }\n",
       "\n",
       "    .dataframe tbody tr th {\n",
       "        vertical-align: top;\n",
       "    }\n",
       "\n",
       "    .dataframe thead th {\n",
       "        text-align: right;\n",
       "    }\n",
       "</style>\n",
       "<table border=\"1\" class=\"dataframe\">\n",
       "  <thead>\n",
       "    <tr style=\"text-align: right;\">\n",
       "      <th></th>\n",
       "      <th>A</th>\n",
       "      <th>B</th>\n",
       "      <th>C</th>\n",
       "      <th>D</th>\n",
       "    </tr>\n",
       "  </thead>\n",
       "  <tbody>\n",
       "    <tr>\n",
       "      <th>2020-03-01</th>\n",
       "      <td>0.218452</td>\n",
       "      <td>-1.117835</td>\n",
       "      <td>0.627170</td>\n",
       "      <td>0.036061</td>\n",
       "    </tr>\n",
       "    <tr>\n",
       "      <th>2020-03-02</th>\n",
       "      <td>1.177871</td>\n",
       "      <td>1.073089</td>\n",
       "      <td>0.022829</td>\n",
       "      <td>1.721355</td>\n",
       "    </tr>\n",
       "    <tr>\n",
       "      <th>2020-03-03</th>\n",
       "      <td>-2.520742</td>\n",
       "      <td>0.853793</td>\n",
       "      <td>0.574265</td>\n",
       "      <td>-2.063883</td>\n",
       "    </tr>\n",
       "    <tr>\n",
       "      <th>2020-03-04</th>\n",
       "      <td>0.761000</td>\n",
       "      <td>-0.256755</td>\n",
       "      <td>0.690346</td>\n",
       "      <td>-0.880438</td>\n",
       "    </tr>\n",
       "    <tr>\n",
       "      <th>2020-03-05</th>\n",
       "      <td>0.279220</td>\n",
       "      <td>-0.005334</td>\n",
       "      <td>-0.490968</td>\n",
       "      <td>-1.346226</td>\n",
       "    </tr>\n",
       "  </tbody>\n",
       "</table>\n",
       "</div>"
      ],
      "text/plain": [
       "                   A         B         C         D\n",
       "2020-03-01  0.218452 -1.117835  0.627170  0.036061\n",
       "2020-03-02  1.177871  1.073089  0.022829  1.721355\n",
       "2020-03-03 -2.520742  0.853793  0.574265 -2.063883\n",
       "2020-03-04  0.761000 -0.256755  0.690346 -0.880438\n",
       "2020-03-05  0.279220 -0.005334 -0.490968 -1.346226"
      ]
     },
     "execution_count": 31,
     "metadata": {},
     "output_type": "execute_result"
    }
   ],
   "source": [
    "# shows first 5 rows of dataframe \n",
    "df.head()"
   ]
  },
  {
   "cell_type": "code",
   "execution_count": 32,
   "id": "bcdb9f60",
   "metadata": {},
   "outputs": [
    {
     "data": {
      "text/html": [
       "<div>\n",
       "<style scoped>\n",
       "    .dataframe tbody tr th:only-of-type {\n",
       "        vertical-align: middle;\n",
       "    }\n",
       "\n",
       "    .dataframe tbody tr th {\n",
       "        vertical-align: top;\n",
       "    }\n",
       "\n",
       "    .dataframe thead th {\n",
       "        text-align: right;\n",
       "    }\n",
       "</style>\n",
       "<table border=\"1\" class=\"dataframe\">\n",
       "  <thead>\n",
       "    <tr style=\"text-align: right;\">\n",
       "      <th></th>\n",
       "      <th>A</th>\n",
       "      <th>B</th>\n",
       "      <th>C</th>\n",
       "      <th>D</th>\n",
       "    </tr>\n",
       "  </thead>\n",
       "  <tbody>\n",
       "    <tr>\n",
       "      <th>2020-03-06</th>\n",
       "      <td>1.408994</td>\n",
       "      <td>0.149309</td>\n",
       "      <td>0.238073</td>\n",
       "      <td>-0.229853</td>\n",
       "    </tr>\n",
       "    <tr>\n",
       "      <th>2020-03-07</th>\n",
       "      <td>1.828160</td>\n",
       "      <td>0.999233</td>\n",
       "      <td>0.155802</td>\n",
       "      <td>-0.178435</td>\n",
       "    </tr>\n",
       "    <tr>\n",
       "      <th>2020-03-08</th>\n",
       "      <td>-0.340873</td>\n",
       "      <td>0.322319</td>\n",
       "      <td>0.325394</td>\n",
       "      <td>1.433204</td>\n",
       "    </tr>\n",
       "    <tr>\n",
       "      <th>2020-03-09</th>\n",
       "      <td>1.837476</td>\n",
       "      <td>0.600041</td>\n",
       "      <td>-0.556740</td>\n",
       "      <td>0.618797</td>\n",
       "    </tr>\n",
       "    <tr>\n",
       "      <th>2020-03-10</th>\n",
       "      <td>-0.067683</td>\n",
       "      <td>-1.694308</td>\n",
       "      <td>-0.389320</td>\n",
       "      <td>-0.112285</td>\n",
       "    </tr>\n",
       "  </tbody>\n",
       "</table>\n",
       "</div>"
      ],
      "text/plain": [
       "                   A         B         C         D\n",
       "2020-03-06  1.408994  0.149309  0.238073 -0.229853\n",
       "2020-03-07  1.828160  0.999233  0.155802 -0.178435\n",
       "2020-03-08 -0.340873  0.322319  0.325394  1.433204\n",
       "2020-03-09  1.837476  0.600041 -0.556740  0.618797\n",
       "2020-03-10 -0.067683 -1.694308 -0.389320 -0.112285"
      ]
     },
     "execution_count": 32,
     "metadata": {},
     "output_type": "execute_result"
    }
   ],
   "source": [
    "# shows last 5 values of the dataframe\n",
    "df.tail()"
   ]
  },
  {
   "cell_type": "code",
   "execution_count": 33,
   "id": "05ecbe1f",
   "metadata": {},
   "outputs": [
    {
     "data": {
      "text/plain": [
       "Index(['A', 'B', 'C', 'D'], dtype='object')"
      ]
     },
     "execution_count": 33,
     "metadata": {},
     "output_type": "execute_result"
    }
   ],
   "source": [
    "# show coumms of the dataframe\n",
    "df.columns"
   ]
  },
  {
   "cell_type": "code",
   "execution_count": 34,
   "id": "3b771bfa",
   "metadata": {},
   "outputs": [
    {
     "data": {
      "text/plain": [
       "array([[ 0.21845205, -1.11783482,  0.62717031,  0.03606082],\n",
       "       [ 1.1778706 ,  1.07308907,  0.02282858,  1.72135495],\n",
       "       [-2.52074208,  0.8537935 ,  0.574265  , -2.06388314],\n",
       "       [ 0.76100016, -0.25675488,  0.69034568, -0.8804381 ],\n",
       "       [ 0.27921971, -0.00533404, -0.49096766, -1.34622623],\n",
       "       [ 1.40899447,  0.14930919,  0.23807346, -0.22985303],\n",
       "       [ 1.82816036,  0.99923345,  0.15580212, -0.17843503],\n",
       "       [-0.34087267,  0.32231901,  0.3253937 ,  1.43320407],\n",
       "       [ 1.83747638,  0.60004082, -0.55673998,  0.61879705],\n",
       "       [-0.06768321, -1.69430767, -0.38931951, -0.11228528]])"
      ]
     },
     "execution_count": 34,
     "metadata": {},
     "output_type": "execute_result"
    }
   ],
   "source": [
    "# create a numpy array of datas of a dataframe\n",
    "df.to_numpy()"
   ]
  },
  {
   "cell_type": "code",
   "execution_count": 35,
   "id": "19fc8b00",
   "metadata": {
    "scrolled": true
   },
   "outputs": [
    {
     "data": {
      "text/html": [
       "<div>\n",
       "<style scoped>\n",
       "    .dataframe tbody tr th:only-of-type {\n",
       "        vertical-align: middle;\n",
       "    }\n",
       "\n",
       "    .dataframe tbody tr th {\n",
       "        vertical-align: top;\n",
       "    }\n",
       "\n",
       "    .dataframe thead th {\n",
       "        text-align: right;\n",
       "    }\n",
       "</style>\n",
       "<table border=\"1\" class=\"dataframe\">\n",
       "  <thead>\n",
       "    <tr style=\"text-align: right;\">\n",
       "      <th></th>\n",
       "      <th>A</th>\n",
       "      <th>B</th>\n",
       "      <th>C</th>\n",
       "      <th>D</th>\n",
       "    </tr>\n",
       "  </thead>\n",
       "  <tbody>\n",
       "    <tr>\n",
       "      <th>2020-03-01</th>\n",
       "      <td>0.218452</td>\n",
       "      <td>-1.117835</td>\n",
       "      <td>0.627170</td>\n",
       "      <td>0.036061</td>\n",
       "    </tr>\n",
       "    <tr>\n",
       "      <th>2020-03-02</th>\n",
       "      <td>1.177871</td>\n",
       "      <td>1.073089</td>\n",
       "      <td>0.022829</td>\n",
       "      <td>1.721355</td>\n",
       "    </tr>\n",
       "    <tr>\n",
       "      <th>2020-03-03</th>\n",
       "      <td>-2.520742</td>\n",
       "      <td>0.853793</td>\n",
       "      <td>0.574265</td>\n",
       "      <td>-2.063883</td>\n",
       "    </tr>\n",
       "    <tr>\n",
       "      <th>2020-03-04</th>\n",
       "      <td>0.761000</td>\n",
       "      <td>-0.256755</td>\n",
       "      <td>0.690346</td>\n",
       "      <td>-0.880438</td>\n",
       "    </tr>\n",
       "    <tr>\n",
       "      <th>2020-03-05</th>\n",
       "      <td>0.279220</td>\n",
       "      <td>-0.005334</td>\n",
       "      <td>-0.490968</td>\n",
       "      <td>-1.346226</td>\n",
       "    </tr>\n",
       "    <tr>\n",
       "      <th>2020-03-06</th>\n",
       "      <td>1.408994</td>\n",
       "      <td>0.149309</td>\n",
       "      <td>0.238073</td>\n",
       "      <td>-0.229853</td>\n",
       "    </tr>\n",
       "    <tr>\n",
       "      <th>2020-03-07</th>\n",
       "      <td>1.828160</td>\n",
       "      <td>0.999233</td>\n",
       "      <td>0.155802</td>\n",
       "      <td>-0.178435</td>\n",
       "    </tr>\n",
       "    <tr>\n",
       "      <th>2020-03-08</th>\n",
       "      <td>-0.340873</td>\n",
       "      <td>0.322319</td>\n",
       "      <td>0.325394</td>\n",
       "      <td>1.433204</td>\n",
       "    </tr>\n",
       "    <tr>\n",
       "      <th>2020-03-09</th>\n",
       "      <td>1.837476</td>\n",
       "      <td>0.600041</td>\n",
       "      <td>-0.556740</td>\n",
       "      <td>0.618797</td>\n",
       "    </tr>\n",
       "    <tr>\n",
       "      <th>2020-03-10</th>\n",
       "      <td>-0.067683</td>\n",
       "      <td>-1.694308</td>\n",
       "      <td>-0.389320</td>\n",
       "      <td>-0.112285</td>\n",
       "    </tr>\n",
       "  </tbody>\n",
       "</table>\n",
       "</div>"
      ],
      "text/plain": [
       "                   A         B         C         D\n",
       "2020-03-01  0.218452 -1.117835  0.627170  0.036061\n",
       "2020-03-02  1.177871  1.073089  0.022829  1.721355\n",
       "2020-03-03 -2.520742  0.853793  0.574265 -2.063883\n",
       "2020-03-04  0.761000 -0.256755  0.690346 -0.880438\n",
       "2020-03-05  0.279220 -0.005334 -0.490968 -1.346226\n",
       "2020-03-06  1.408994  0.149309  0.238073 -0.229853\n",
       "2020-03-07  1.828160  0.999233  0.155802 -0.178435\n",
       "2020-03-08 -0.340873  0.322319  0.325394  1.433204\n",
       "2020-03-09  1.837476  0.600041 -0.556740  0.618797\n",
       "2020-03-10 -0.067683 -1.694308 -0.389320 -0.112285"
      ]
     },
     "execution_count": 35,
     "metadata": {},
     "output_type": "execute_result"
    }
   ],
   "source": [
    "df"
   ]
  },
  {
   "cell_type": "code",
   "execution_count": 36,
   "id": "ac3a2124",
   "metadata": {},
   "outputs": [
    {
     "data": {
      "text/html": [
       "<div>\n",
       "<style scoped>\n",
       "    .dataframe tbody tr th:only-of-type {\n",
       "        vertical-align: middle;\n",
       "    }\n",
       "\n",
       "    .dataframe tbody tr th {\n",
       "        vertical-align: top;\n",
       "    }\n",
       "\n",
       "    .dataframe thead th {\n",
       "        text-align: right;\n",
       "    }\n",
       "</style>\n",
       "<table border=\"1\" class=\"dataframe\">\n",
       "  <thead>\n",
       "    <tr style=\"text-align: right;\">\n",
       "      <th></th>\n",
       "      <th>A</th>\n",
       "      <th>B</th>\n",
       "      <th>C</th>\n",
       "      <th>D</th>\n",
       "    </tr>\n",
       "  </thead>\n",
       "  <tbody>\n",
       "    <tr>\n",
       "      <th>count</th>\n",
       "      <td>10.000000</td>\n",
       "      <td>10.000000</td>\n",
       "      <td>10.000000</td>\n",
       "      <td>10.000000</td>\n",
       "    </tr>\n",
       "    <tr>\n",
       "      <th>mean</th>\n",
       "      <td>0.458188</td>\n",
       "      <td>0.092355</td>\n",
       "      <td>0.119685</td>\n",
       "      <td>-0.100170</td>\n",
       "    </tr>\n",
       "    <tr>\n",
       "      <th>std</th>\n",
       "      <td>1.298354</td>\n",
       "      <td>0.910804</td>\n",
       "      <td>0.465043</td>\n",
       "      <td>1.166447</td>\n",
       "    </tr>\n",
       "    <tr>\n",
       "      <th>min</th>\n",
       "      <td>-2.520742</td>\n",
       "      <td>-1.694308</td>\n",
       "      <td>-0.556740</td>\n",
       "      <td>-2.063883</td>\n",
       "    </tr>\n",
       "    <tr>\n",
       "      <th>25%</th>\n",
       "      <td>0.003851</td>\n",
       "      <td>-0.193900</td>\n",
       "      <td>-0.286282</td>\n",
       "      <td>-0.717792</td>\n",
       "    </tr>\n",
       "    <tr>\n",
       "      <th>50%</th>\n",
       "      <td>0.520110</td>\n",
       "      <td>0.235814</td>\n",
       "      <td>0.196938</td>\n",
       "      <td>-0.145360</td>\n",
       "    </tr>\n",
       "    <tr>\n",
       "      <th>75%</th>\n",
       "      <td>1.351214</td>\n",
       "      <td>0.790355</td>\n",
       "      <td>0.512047</td>\n",
       "      <td>0.473113</td>\n",
       "    </tr>\n",
       "    <tr>\n",
       "      <th>max</th>\n",
       "      <td>1.837476</td>\n",
       "      <td>1.073089</td>\n",
       "      <td>0.690346</td>\n",
       "      <td>1.721355</td>\n",
       "    </tr>\n",
       "  </tbody>\n",
       "</table>\n",
       "</div>"
      ],
      "text/plain": [
       "               A          B          C          D\n",
       "count  10.000000  10.000000  10.000000  10.000000\n",
       "mean    0.458188   0.092355   0.119685  -0.100170\n",
       "std     1.298354   0.910804   0.465043   1.166447\n",
       "min    -2.520742  -1.694308  -0.556740  -2.063883\n",
       "25%     0.003851  -0.193900  -0.286282  -0.717792\n",
       "50%     0.520110   0.235814   0.196938  -0.145360\n",
       "75%     1.351214   0.790355   0.512047   0.473113\n",
       "max     1.837476   1.073089   0.690346   1.721355"
      ]
     },
     "execution_count": 36,
     "metadata": {},
     "output_type": "execute_result"
    }
   ],
   "source": [
    "df.describe()"
   ]
  },
  {
   "cell_type": "code",
   "execution_count": 37,
   "id": "8d2a6250",
   "metadata": {},
   "outputs": [
    {
     "data": {
      "text/html": [
       "<div>\n",
       "<style scoped>\n",
       "    .dataframe tbody tr th:only-of-type {\n",
       "        vertical-align: middle;\n",
       "    }\n",
       "\n",
       "    .dataframe tbody tr th {\n",
       "        vertical-align: top;\n",
       "    }\n",
       "\n",
       "    .dataframe thead th {\n",
       "        text-align: right;\n",
       "    }\n",
       "</style>\n",
       "<table border=\"1\" class=\"dataframe\">\n",
       "  <thead>\n",
       "    <tr style=\"text-align: right;\">\n",
       "      <th></th>\n",
       "      <th>D</th>\n",
       "      <th>C</th>\n",
       "      <th>B</th>\n",
       "      <th>A</th>\n",
       "    </tr>\n",
       "  </thead>\n",
       "  <tbody>\n",
       "    <tr>\n",
       "      <th>2020-03-01</th>\n",
       "      <td>0.036061</td>\n",
       "      <td>0.627170</td>\n",
       "      <td>-1.117835</td>\n",
       "      <td>0.218452</td>\n",
       "    </tr>\n",
       "    <tr>\n",
       "      <th>2020-03-02</th>\n",
       "      <td>1.721355</td>\n",
       "      <td>0.022829</td>\n",
       "      <td>1.073089</td>\n",
       "      <td>1.177871</td>\n",
       "    </tr>\n",
       "    <tr>\n",
       "      <th>2020-03-03</th>\n",
       "      <td>-2.063883</td>\n",
       "      <td>0.574265</td>\n",
       "      <td>0.853793</td>\n",
       "      <td>-2.520742</td>\n",
       "    </tr>\n",
       "    <tr>\n",
       "      <th>2020-03-04</th>\n",
       "      <td>-0.880438</td>\n",
       "      <td>0.690346</td>\n",
       "      <td>-0.256755</td>\n",
       "      <td>0.761000</td>\n",
       "    </tr>\n",
       "    <tr>\n",
       "      <th>2020-03-05</th>\n",
       "      <td>-1.346226</td>\n",
       "      <td>-0.490968</td>\n",
       "      <td>-0.005334</td>\n",
       "      <td>0.279220</td>\n",
       "    </tr>\n",
       "    <tr>\n",
       "      <th>2020-03-06</th>\n",
       "      <td>-0.229853</td>\n",
       "      <td>0.238073</td>\n",
       "      <td>0.149309</td>\n",
       "      <td>1.408994</td>\n",
       "    </tr>\n",
       "    <tr>\n",
       "      <th>2020-03-07</th>\n",
       "      <td>-0.178435</td>\n",
       "      <td>0.155802</td>\n",
       "      <td>0.999233</td>\n",
       "      <td>1.828160</td>\n",
       "    </tr>\n",
       "    <tr>\n",
       "      <th>2020-03-08</th>\n",
       "      <td>1.433204</td>\n",
       "      <td>0.325394</td>\n",
       "      <td>0.322319</td>\n",
       "      <td>-0.340873</td>\n",
       "    </tr>\n",
       "    <tr>\n",
       "      <th>2020-03-09</th>\n",
       "      <td>0.618797</td>\n",
       "      <td>-0.556740</td>\n",
       "      <td>0.600041</td>\n",
       "      <td>1.837476</td>\n",
       "    </tr>\n",
       "    <tr>\n",
       "      <th>2020-03-10</th>\n",
       "      <td>-0.112285</td>\n",
       "      <td>-0.389320</td>\n",
       "      <td>-1.694308</td>\n",
       "      <td>-0.067683</td>\n",
       "    </tr>\n",
       "  </tbody>\n",
       "</table>\n",
       "</div>"
      ],
      "text/plain": [
       "                   D         C         B         A\n",
       "2020-03-01  0.036061  0.627170 -1.117835  0.218452\n",
       "2020-03-02  1.721355  0.022829  1.073089  1.177871\n",
       "2020-03-03 -2.063883  0.574265  0.853793 -2.520742\n",
       "2020-03-04 -0.880438  0.690346 -0.256755  0.761000\n",
       "2020-03-05 -1.346226 -0.490968 -0.005334  0.279220\n",
       "2020-03-06 -0.229853  0.238073  0.149309  1.408994\n",
       "2020-03-07 -0.178435  0.155802  0.999233  1.828160\n",
       "2020-03-08  1.433204  0.325394  0.322319 -0.340873\n",
       "2020-03-09  0.618797 -0.556740  0.600041  1.837476\n",
       "2020-03-10 -0.112285 -0.389320 -1.694308 -0.067683"
      ]
     },
     "execution_count": 37,
     "metadata": {},
     "output_type": "execute_result"
    }
   ],
   "source": [
    "df.sort_index(axis = 1, ascending = False)"
   ]
  },
  {
   "cell_type": "code",
   "execution_count": 38,
   "id": "d75bcae0",
   "metadata": {},
   "outputs": [
    {
     "data": {
      "text/html": [
       "<div>\n",
       "<style scoped>\n",
       "    .dataframe tbody tr th:only-of-type {\n",
       "        vertical-align: middle;\n",
       "    }\n",
       "\n",
       "    .dataframe tbody tr th {\n",
       "        vertical-align: top;\n",
       "    }\n",
       "\n",
       "    .dataframe thead th {\n",
       "        text-align: right;\n",
       "    }\n",
       "</style>\n",
       "<table border=\"1\" class=\"dataframe\">\n",
       "  <thead>\n",
       "    <tr style=\"text-align: right;\">\n",
       "      <th></th>\n",
       "      <th>A</th>\n",
       "      <th>B</th>\n",
       "      <th>C</th>\n",
       "      <th>D</th>\n",
       "    </tr>\n",
       "  </thead>\n",
       "  <tbody>\n",
       "    <tr>\n",
       "      <th>2020-03-01</th>\n",
       "      <td>0.218452</td>\n",
       "      <td>-1.117835</td>\n",
       "      <td>0.627170</td>\n",
       "      <td>0.036061</td>\n",
       "    </tr>\n",
       "    <tr>\n",
       "      <th>2020-03-02</th>\n",
       "      <td>1.177871</td>\n",
       "      <td>1.073089</td>\n",
       "      <td>0.022829</td>\n",
       "      <td>1.721355</td>\n",
       "    </tr>\n",
       "    <tr>\n",
       "      <th>2020-03-03</th>\n",
       "      <td>-2.520742</td>\n",
       "      <td>0.853793</td>\n",
       "      <td>0.574265</td>\n",
       "      <td>-2.063883</td>\n",
       "    </tr>\n",
       "    <tr>\n",
       "      <th>2020-03-04</th>\n",
       "      <td>0.761000</td>\n",
       "      <td>-0.256755</td>\n",
       "      <td>0.690346</td>\n",
       "      <td>-0.880438</td>\n",
       "    </tr>\n",
       "    <tr>\n",
       "      <th>2020-03-05</th>\n",
       "      <td>0.279220</td>\n",
       "      <td>-0.005334</td>\n",
       "      <td>-0.490968</td>\n",
       "      <td>-1.346226</td>\n",
       "    </tr>\n",
       "    <tr>\n",
       "      <th>2020-03-06</th>\n",
       "      <td>1.408994</td>\n",
       "      <td>0.149309</td>\n",
       "      <td>0.238073</td>\n",
       "      <td>-0.229853</td>\n",
       "    </tr>\n",
       "    <tr>\n",
       "      <th>2020-03-07</th>\n",
       "      <td>1.828160</td>\n",
       "      <td>0.999233</td>\n",
       "      <td>0.155802</td>\n",
       "      <td>-0.178435</td>\n",
       "    </tr>\n",
       "    <tr>\n",
       "      <th>2020-03-08</th>\n",
       "      <td>-0.340873</td>\n",
       "      <td>0.322319</td>\n",
       "      <td>0.325394</td>\n",
       "      <td>1.433204</td>\n",
       "    </tr>\n",
       "    <tr>\n",
       "      <th>2020-03-09</th>\n",
       "      <td>1.837476</td>\n",
       "      <td>0.600041</td>\n",
       "      <td>-0.556740</td>\n",
       "      <td>0.618797</td>\n",
       "    </tr>\n",
       "    <tr>\n",
       "      <th>2020-03-10</th>\n",
       "      <td>-0.067683</td>\n",
       "      <td>-1.694308</td>\n",
       "      <td>-0.389320</td>\n",
       "      <td>-0.112285</td>\n",
       "    </tr>\n",
       "  </tbody>\n",
       "</table>\n",
       "</div>"
      ],
      "text/plain": [
       "                   A         B         C         D\n",
       "2020-03-01  0.218452 -1.117835  0.627170  0.036061\n",
       "2020-03-02  1.177871  1.073089  0.022829  1.721355\n",
       "2020-03-03 -2.520742  0.853793  0.574265 -2.063883\n",
       "2020-03-04  0.761000 -0.256755  0.690346 -0.880438\n",
       "2020-03-05  0.279220 -0.005334 -0.490968 -1.346226\n",
       "2020-03-06  1.408994  0.149309  0.238073 -0.229853\n",
       "2020-03-07  1.828160  0.999233  0.155802 -0.178435\n",
       "2020-03-08 -0.340873  0.322319  0.325394  1.433204\n",
       "2020-03-09  1.837476  0.600041 -0.556740  0.618797\n",
       "2020-03-10 -0.067683 -1.694308 -0.389320 -0.112285"
      ]
     },
     "execution_count": 38,
     "metadata": {},
     "output_type": "execute_result"
    }
   ],
   "source": [
    "df"
   ]
  },
  {
   "cell_type": "code",
   "execution_count": 39,
   "id": "1b41677d",
   "metadata": {},
   "outputs": [
    {
     "data": {
      "text/html": [
       "<div>\n",
       "<style scoped>\n",
       "    .dataframe tbody tr th:only-of-type {\n",
       "        vertical-align: middle;\n",
       "    }\n",
       "\n",
       "    .dataframe tbody tr th {\n",
       "        vertical-align: top;\n",
       "    }\n",
       "\n",
       "    .dataframe thead th {\n",
       "        text-align: right;\n",
       "    }\n",
       "</style>\n",
       "<table border=\"1\" class=\"dataframe\">\n",
       "  <thead>\n",
       "    <tr style=\"text-align: right;\">\n",
       "      <th></th>\n",
       "      <th>A</th>\n",
       "      <th>B</th>\n",
       "      <th>C</th>\n",
       "      <th>D</th>\n",
       "    </tr>\n",
       "  </thead>\n",
       "  <tbody>\n",
       "    <tr>\n",
       "      <th>2020-03-04</th>\n",
       "      <td>0.761000</td>\n",
       "      <td>-0.256755</td>\n",
       "      <td>0.690346</td>\n",
       "      <td>-0.880438</td>\n",
       "    </tr>\n",
       "    <tr>\n",
       "      <th>2020-03-01</th>\n",
       "      <td>0.218452</td>\n",
       "      <td>-1.117835</td>\n",
       "      <td>0.627170</td>\n",
       "      <td>0.036061</td>\n",
       "    </tr>\n",
       "    <tr>\n",
       "      <th>2020-03-03</th>\n",
       "      <td>-2.520742</td>\n",
       "      <td>0.853793</td>\n",
       "      <td>0.574265</td>\n",
       "      <td>-2.063883</td>\n",
       "    </tr>\n",
       "    <tr>\n",
       "      <th>2020-03-08</th>\n",
       "      <td>-0.340873</td>\n",
       "      <td>0.322319</td>\n",
       "      <td>0.325394</td>\n",
       "      <td>1.433204</td>\n",
       "    </tr>\n",
       "    <tr>\n",
       "      <th>2020-03-06</th>\n",
       "      <td>1.408994</td>\n",
       "      <td>0.149309</td>\n",
       "      <td>0.238073</td>\n",
       "      <td>-0.229853</td>\n",
       "    </tr>\n",
       "    <tr>\n",
       "      <th>2020-03-07</th>\n",
       "      <td>1.828160</td>\n",
       "      <td>0.999233</td>\n",
       "      <td>0.155802</td>\n",
       "      <td>-0.178435</td>\n",
       "    </tr>\n",
       "    <tr>\n",
       "      <th>2020-03-02</th>\n",
       "      <td>1.177871</td>\n",
       "      <td>1.073089</td>\n",
       "      <td>0.022829</td>\n",
       "      <td>1.721355</td>\n",
       "    </tr>\n",
       "    <tr>\n",
       "      <th>2020-03-10</th>\n",
       "      <td>-0.067683</td>\n",
       "      <td>-1.694308</td>\n",
       "      <td>-0.389320</td>\n",
       "      <td>-0.112285</td>\n",
       "    </tr>\n",
       "    <tr>\n",
       "      <th>2020-03-05</th>\n",
       "      <td>0.279220</td>\n",
       "      <td>-0.005334</td>\n",
       "      <td>-0.490968</td>\n",
       "      <td>-1.346226</td>\n",
       "    </tr>\n",
       "    <tr>\n",
       "      <th>2020-03-09</th>\n",
       "      <td>1.837476</td>\n",
       "      <td>0.600041</td>\n",
       "      <td>-0.556740</td>\n",
       "      <td>0.618797</td>\n",
       "    </tr>\n",
       "  </tbody>\n",
       "</table>\n",
       "</div>"
      ],
      "text/plain": [
       "                   A         B         C         D\n",
       "2020-03-04  0.761000 -0.256755  0.690346 -0.880438\n",
       "2020-03-01  0.218452 -1.117835  0.627170  0.036061\n",
       "2020-03-03 -2.520742  0.853793  0.574265 -2.063883\n",
       "2020-03-08 -0.340873  0.322319  0.325394  1.433204\n",
       "2020-03-06  1.408994  0.149309  0.238073 -0.229853\n",
       "2020-03-07  1.828160  0.999233  0.155802 -0.178435\n",
       "2020-03-02  1.177871  1.073089  0.022829  1.721355\n",
       "2020-03-10 -0.067683 -1.694308 -0.389320 -0.112285\n",
       "2020-03-05  0.279220 -0.005334 -0.490968 -1.346226\n",
       "2020-03-09  1.837476  0.600041 -0.556740  0.618797"
      ]
     },
     "execution_count": 39,
     "metadata": {},
     "output_type": "execute_result"
    }
   ],
   "source": [
    "df.sort_values(by = 'C', ascending = False)"
   ]
  },
  {
   "cell_type": "code",
   "execution_count": 40,
   "id": "991a470d",
   "metadata": {
    "scrolled": true
   },
   "outputs": [
    {
     "data": {
      "text/plain": [
       "2020-03-01    0.627170\n",
       "2020-03-02    0.022829\n",
       "2020-03-03    0.574265\n",
       "2020-03-04    0.690346\n",
       "2020-03-05   -0.490968\n",
       "2020-03-06    0.238073\n",
       "2020-03-07    0.155802\n",
       "2020-03-08    0.325394\n",
       "2020-03-09   -0.556740\n",
       "2020-03-10   -0.389320\n",
       "Freq: D, Name: C, dtype: float64"
      ]
     },
     "execution_count": 40,
     "metadata": {},
     "output_type": "execute_result"
    }
   ],
   "source": [
    "# selecting single columns from the dataframe\n",
    "df['C']"
   ]
  },
  {
   "cell_type": "code",
   "execution_count": 41,
   "id": "93940406",
   "metadata": {},
   "outputs": [
    {
     "data": {
      "text/html": [
       "<div>\n",
       "<style scoped>\n",
       "    .dataframe tbody tr th:only-of-type {\n",
       "        vertical-align: middle;\n",
       "    }\n",
       "\n",
       "    .dataframe tbody tr th {\n",
       "        vertical-align: top;\n",
       "    }\n",
       "\n",
       "    .dataframe thead th {\n",
       "        text-align: right;\n",
       "    }\n",
       "</style>\n",
       "<table border=\"1\" class=\"dataframe\">\n",
       "  <thead>\n",
       "    <tr style=\"text-align: right;\">\n",
       "      <th></th>\n",
       "      <th>A</th>\n",
       "      <th>B</th>\n",
       "      <th>C</th>\n",
       "      <th>D</th>\n",
       "    </tr>\n",
       "  </thead>\n",
       "  <tbody>\n",
       "    <tr>\n",
       "      <th>2020-03-01</th>\n",
       "      <td>0.218452</td>\n",
       "      <td>-1.117835</td>\n",
       "      <td>0.627170</td>\n",
       "      <td>0.036061</td>\n",
       "    </tr>\n",
       "    <tr>\n",
       "      <th>2020-03-02</th>\n",
       "      <td>1.177871</td>\n",
       "      <td>1.073089</td>\n",
       "      <td>0.022829</td>\n",
       "      <td>1.721355</td>\n",
       "    </tr>\n",
       "    <tr>\n",
       "      <th>2020-03-03</th>\n",
       "      <td>-2.520742</td>\n",
       "      <td>0.853793</td>\n",
       "      <td>0.574265</td>\n",
       "      <td>-2.063883</td>\n",
       "    </tr>\n",
       "  </tbody>\n",
       "</table>\n",
       "</div>"
      ],
      "text/plain": [
       "                   A         B         C         D\n",
       "2020-03-01  0.218452 -1.117835  0.627170  0.036061\n",
       "2020-03-02  1.177871  1.073089  0.022829  1.721355\n",
       "2020-03-03 -2.520742  0.853793  0.574265 -2.063883"
      ]
     },
     "execution_count": 41,
     "metadata": {},
     "output_type": "execute_result"
    }
   ],
   "source": [
    "# slicing the dataframe\n",
    "df[0:3]"
   ]
  },
  {
   "cell_type": "code",
   "execution_count": 42,
   "id": "e07f3e19",
   "metadata": {},
   "outputs": [
    {
     "data": {
      "text/plain": [
       "A    0.218452\n",
       "B   -1.117835\n",
       "C    0.627170\n",
       "D    0.036061\n",
       "Name: 2020-03-01 00:00:00, dtype: float64"
      ]
     },
     "execution_count": 42,
     "metadata": {},
     "output_type": "execute_result"
    }
   ],
   "source": [
    "# selecting data using labels\n",
    "df.loc[d[0]]"
   ]
  },
  {
   "cell_type": "code",
   "execution_count": 43,
   "id": "e819f409",
   "metadata": {},
   "outputs": [
    {
     "data": {
      "text/html": [
       "<div>\n",
       "<style scoped>\n",
       "    .dataframe tbody tr th:only-of-type {\n",
       "        vertical-align: middle;\n",
       "    }\n",
       "\n",
       "    .dataframe tbody tr th {\n",
       "        vertical-align: top;\n",
       "    }\n",
       "\n",
       "    .dataframe thead th {\n",
       "        text-align: right;\n",
       "    }\n",
       "</style>\n",
       "<table border=\"1\" class=\"dataframe\">\n",
       "  <thead>\n",
       "    <tr style=\"text-align: right;\">\n",
       "      <th></th>\n",
       "      <th>A</th>\n",
       "      <th>C</th>\n",
       "    </tr>\n",
       "  </thead>\n",
       "  <tbody>\n",
       "    <tr>\n",
       "      <th>2020-03-01</th>\n",
       "      <td>0.218452</td>\n",
       "      <td>0.627170</td>\n",
       "    </tr>\n",
       "    <tr>\n",
       "      <th>2020-03-02</th>\n",
       "      <td>1.177871</td>\n",
       "      <td>0.022829</td>\n",
       "    </tr>\n",
       "    <tr>\n",
       "      <th>2020-03-03</th>\n",
       "      <td>-2.520742</td>\n",
       "      <td>0.574265</td>\n",
       "    </tr>\n",
       "    <tr>\n",
       "      <th>2020-03-04</th>\n",
       "      <td>0.761000</td>\n",
       "      <td>0.690346</td>\n",
       "    </tr>\n",
       "    <tr>\n",
       "      <th>2020-03-05</th>\n",
       "      <td>0.279220</td>\n",
       "      <td>-0.490968</td>\n",
       "    </tr>\n",
       "    <tr>\n",
       "      <th>2020-03-06</th>\n",
       "      <td>1.408994</td>\n",
       "      <td>0.238073</td>\n",
       "    </tr>\n",
       "    <tr>\n",
       "      <th>2020-03-07</th>\n",
       "      <td>1.828160</td>\n",
       "      <td>0.155802</td>\n",
       "    </tr>\n",
       "    <tr>\n",
       "      <th>2020-03-08</th>\n",
       "      <td>-0.340873</td>\n",
       "      <td>0.325394</td>\n",
       "    </tr>\n",
       "    <tr>\n",
       "      <th>2020-03-09</th>\n",
       "      <td>1.837476</td>\n",
       "      <td>-0.556740</td>\n",
       "    </tr>\n",
       "    <tr>\n",
       "      <th>2020-03-10</th>\n",
       "      <td>-0.067683</td>\n",
       "      <td>-0.389320</td>\n",
       "    </tr>\n",
       "  </tbody>\n",
       "</table>\n",
       "</div>"
      ],
      "text/plain": [
       "                   A         C\n",
       "2020-03-01  0.218452  0.627170\n",
       "2020-03-02  1.177871  0.022829\n",
       "2020-03-03 -2.520742  0.574265\n",
       "2020-03-04  0.761000  0.690346\n",
       "2020-03-05  0.279220 -0.490968\n",
       "2020-03-06  1.408994  0.238073\n",
       "2020-03-07  1.828160  0.155802\n",
       "2020-03-08 -0.340873  0.325394\n",
       "2020-03-09  1.837476 -0.556740\n",
       "2020-03-10 -0.067683 -0.389320"
      ]
     },
     "execution_count": 43,
     "metadata": {},
     "output_type": "execute_result"
    }
   ],
   "source": [
    "df.loc[:,['A','C']]"
   ]
  },
  {
   "cell_type": "code",
   "execution_count": 44,
   "id": "6971a86b",
   "metadata": {},
   "outputs": [
    {
     "data": {
      "text/html": [
       "<div>\n",
       "<style scoped>\n",
       "    .dataframe tbody tr th:only-of-type {\n",
       "        vertical-align: middle;\n",
       "    }\n",
       "\n",
       "    .dataframe tbody tr th {\n",
       "        vertical-align: top;\n",
       "    }\n",
       "\n",
       "    .dataframe thead th {\n",
       "        text-align: right;\n",
       "    }\n",
       "</style>\n",
       "<table border=\"1\" class=\"dataframe\">\n",
       "  <thead>\n",
       "    <tr style=\"text-align: right;\">\n",
       "      <th></th>\n",
       "      <th>A</th>\n",
       "      <th>C</th>\n",
       "    </tr>\n",
       "  </thead>\n",
       "  <tbody>\n",
       "    <tr>\n",
       "      <th>2020-03-01</th>\n",
       "      <td>0.218452</td>\n",
       "      <td>0.627170</td>\n",
       "    </tr>\n",
       "    <tr>\n",
       "      <th>2020-03-02</th>\n",
       "      <td>1.177871</td>\n",
       "      <td>0.022829</td>\n",
       "    </tr>\n",
       "    <tr>\n",
       "      <th>2020-03-03</th>\n",
       "      <td>-2.520742</td>\n",
       "      <td>0.574265</td>\n",
       "    </tr>\n",
       "    <tr>\n",
       "      <th>2020-03-04</th>\n",
       "      <td>0.761000</td>\n",
       "      <td>0.690346</td>\n",
       "    </tr>\n",
       "    <tr>\n",
       "      <th>2020-03-05</th>\n",
       "      <td>0.279220</td>\n",
       "      <td>-0.490968</td>\n",
       "    </tr>\n",
       "  </tbody>\n",
       "</table>\n",
       "</div>"
      ],
      "text/plain": [
       "                   A         C\n",
       "2020-03-01  0.218452  0.627170\n",
       "2020-03-02  1.177871  0.022829\n",
       "2020-03-03 -2.520742  0.574265\n",
       "2020-03-04  0.761000  0.690346\n",
       "2020-03-05  0.279220 -0.490968"
      ]
     },
     "execution_count": 44,
     "metadata": {},
     "output_type": "execute_result"
    }
   ],
   "source": [
    "df.loc['20200301':'20200305',['A','C']]"
   ]
  },
  {
   "cell_type": "code",
   "execution_count": 45,
   "id": "e0eb948b",
   "metadata": {},
   "outputs": [
    {
     "data": {
      "text/plain": [
       "A    1.177871\n",
       "C    0.022829\n",
       "Name: 2020-03-02 00:00:00, dtype: float64"
      ]
     },
     "execution_count": 45,
     "metadata": {},
     "output_type": "execute_result"
    }
   ],
   "source": [
    "df.loc['20200302',['A','C']]"
   ]
  },
  {
   "cell_type": "code",
   "execution_count": 46,
   "id": "c52a7721",
   "metadata": {},
   "outputs": [
    {
     "data": {
      "text/plain": [
       "A    0.218452\n",
       "C    0.627170\n",
       "Name: 2020-03-01 00:00:00, dtype: float64"
      ]
     },
     "execution_count": 46,
     "metadata": {},
     "output_type": "execute_result"
    }
   ],
   "source": [
    "df.loc[d[0],['A','C']]"
   ]
  },
  {
   "cell_type": "code",
   "execution_count": 47,
   "id": "2722eb85",
   "metadata": {},
   "outputs": [
    {
     "data": {
      "text/plain": [
       "0.6271703110995009"
      ]
     },
     "execution_count": 47,
     "metadata": {},
     "output_type": "execute_result"
    }
   ],
   "source": [
    "# getting exact value at a particular row  by column\n",
    "df.at[d[0],'C']"
   ]
  },
  {
   "cell_type": "code",
   "execution_count": 48,
   "id": "669b2bdc",
   "metadata": {},
   "outputs": [
    {
     "data": {
      "text/html": [
       "<div>\n",
       "<style scoped>\n",
       "    .dataframe tbody tr th:only-of-type {\n",
       "        vertical-align: middle;\n",
       "    }\n",
       "\n",
       "    .dataframe tbody tr th {\n",
       "        vertical-align: top;\n",
       "    }\n",
       "\n",
       "    .dataframe thead th {\n",
       "        text-align: right;\n",
       "    }\n",
       "</style>\n",
       "<table border=\"1\" class=\"dataframe\">\n",
       "  <thead>\n",
       "    <tr style=\"text-align: right;\">\n",
       "      <th></th>\n",
       "      <th>A</th>\n",
       "      <th>B</th>\n",
       "      <th>C</th>\n",
       "      <th>D</th>\n",
       "    </tr>\n",
       "  </thead>\n",
       "  <tbody>\n",
       "    <tr>\n",
       "      <th>2020-03-01</th>\n",
       "      <td>0.218452</td>\n",
       "      <td>-1.117835</td>\n",
       "      <td>0.627170</td>\n",
       "      <td>0.036061</td>\n",
       "    </tr>\n",
       "    <tr>\n",
       "      <th>2020-03-02</th>\n",
       "      <td>1.177871</td>\n",
       "      <td>1.073089</td>\n",
       "      <td>0.022829</td>\n",
       "      <td>1.721355</td>\n",
       "    </tr>\n",
       "    <tr>\n",
       "      <th>2020-03-03</th>\n",
       "      <td>-2.520742</td>\n",
       "      <td>0.853793</td>\n",
       "      <td>0.574265</td>\n",
       "      <td>-2.063883</td>\n",
       "    </tr>\n",
       "    <tr>\n",
       "      <th>2020-03-04</th>\n",
       "      <td>0.761000</td>\n",
       "      <td>-0.256755</td>\n",
       "      <td>0.690346</td>\n",
       "      <td>-0.880438</td>\n",
       "    </tr>\n",
       "    <tr>\n",
       "      <th>2020-03-05</th>\n",
       "      <td>0.279220</td>\n",
       "      <td>-0.005334</td>\n",
       "      <td>-0.490968</td>\n",
       "      <td>-1.346226</td>\n",
       "    </tr>\n",
       "    <tr>\n",
       "      <th>2020-03-06</th>\n",
       "      <td>1.408994</td>\n",
       "      <td>0.149309</td>\n",
       "      <td>0.238073</td>\n",
       "      <td>-0.229853</td>\n",
       "    </tr>\n",
       "    <tr>\n",
       "      <th>2020-03-07</th>\n",
       "      <td>1.828160</td>\n",
       "      <td>0.999233</td>\n",
       "      <td>0.155802</td>\n",
       "      <td>-0.178435</td>\n",
       "    </tr>\n",
       "    <tr>\n",
       "      <th>2020-03-08</th>\n",
       "      <td>-0.340873</td>\n",
       "      <td>0.322319</td>\n",
       "      <td>0.325394</td>\n",
       "      <td>1.433204</td>\n",
       "    </tr>\n",
       "    <tr>\n",
       "      <th>2020-03-09</th>\n",
       "      <td>1.837476</td>\n",
       "      <td>0.600041</td>\n",
       "      <td>-0.556740</td>\n",
       "      <td>0.618797</td>\n",
       "    </tr>\n",
       "    <tr>\n",
       "      <th>2020-03-10</th>\n",
       "      <td>-0.067683</td>\n",
       "      <td>-1.694308</td>\n",
       "      <td>-0.389320</td>\n",
       "      <td>-0.112285</td>\n",
       "    </tr>\n",
       "  </tbody>\n",
       "</table>\n",
       "</div>"
      ],
      "text/plain": [
       "                   A         B         C         D\n",
       "2020-03-01  0.218452 -1.117835  0.627170  0.036061\n",
       "2020-03-02  1.177871  1.073089  0.022829  1.721355\n",
       "2020-03-03 -2.520742  0.853793  0.574265 -2.063883\n",
       "2020-03-04  0.761000 -0.256755  0.690346 -0.880438\n",
       "2020-03-05  0.279220 -0.005334 -0.490968 -1.346226\n",
       "2020-03-06  1.408994  0.149309  0.238073 -0.229853\n",
       "2020-03-07  1.828160  0.999233  0.155802 -0.178435\n",
       "2020-03-08 -0.340873  0.322319  0.325394  1.433204\n",
       "2020-03-09  1.837476  0.600041 -0.556740  0.618797\n",
       "2020-03-10 -0.067683 -1.694308 -0.389320 -0.112285"
      ]
     },
     "execution_count": 48,
     "metadata": {},
     "output_type": "execute_result"
    }
   ],
   "source": [
    "df"
   ]
  },
  {
   "cell_type": "code",
   "execution_count": 49,
   "id": "c925585f",
   "metadata": {},
   "outputs": [
    {
     "data": {
      "text/plain": [
       "A    0.761000\n",
       "B   -0.256755\n",
       "C    0.690346\n",
       "D   -0.880438\n",
       "Name: 2020-03-04 00:00:00, dtype: float64"
      ]
     },
     "execution_count": 49,
     "metadata": {},
     "output_type": "execute_result"
    }
   ],
   "source": [
    "# selecting rows\n",
    "df.iloc[3]"
   ]
  },
  {
   "cell_type": "code",
   "execution_count": 50,
   "id": "ad244b3e",
   "metadata": {},
   "outputs": [
    {
     "data": {
      "text/html": [
       "<div>\n",
       "<style scoped>\n",
       "    .dataframe tbody tr th:only-of-type {\n",
       "        vertical-align: middle;\n",
       "    }\n",
       "\n",
       "    .dataframe tbody tr th {\n",
       "        vertical-align: top;\n",
       "    }\n",
       "\n",
       "    .dataframe thead th {\n",
       "        text-align: right;\n",
       "    }\n",
       "</style>\n",
       "<table border=\"1\" class=\"dataframe\">\n",
       "  <thead>\n",
       "    <tr style=\"text-align: right;\">\n",
       "      <th></th>\n",
       "      <th>A</th>\n",
       "      <th>B</th>\n",
       "    </tr>\n",
       "  </thead>\n",
       "  <tbody>\n",
       "    <tr>\n",
       "      <th>2020-03-04</th>\n",
       "      <td>0.76100</td>\n",
       "      <td>-0.256755</td>\n",
       "    </tr>\n",
       "    <tr>\n",
       "      <th>2020-03-05</th>\n",
       "      <td>0.27922</td>\n",
       "      <td>-0.005334</td>\n",
       "    </tr>\n",
       "  </tbody>\n",
       "</table>\n",
       "</div>"
      ],
      "text/plain": [
       "                  A         B\n",
       "2020-03-04  0.76100 -0.256755\n",
       "2020-03-05  0.27922 -0.005334"
      ]
     },
     "execution_count": 50,
     "metadata": {},
     "output_type": "execute_result"
    }
   ],
   "source": [
    "df.iloc[3:5,0:2]"
   ]
  },
  {
   "cell_type": "code",
   "execution_count": 51,
   "id": "fe331d31",
   "metadata": {},
   "outputs": [
    {
     "data": {
      "text/html": [
       "<div>\n",
       "<style scoped>\n",
       "    .dataframe tbody tr th:only-of-type {\n",
       "        vertical-align: middle;\n",
       "    }\n",
       "\n",
       "    .dataframe tbody tr th {\n",
       "        vertical-align: top;\n",
       "    }\n",
       "\n",
       "    .dataframe thead th {\n",
       "        text-align: right;\n",
       "    }\n",
       "</style>\n",
       "<table border=\"1\" class=\"dataframe\">\n",
       "  <thead>\n",
       "    <tr style=\"text-align: right;\">\n",
       "      <th></th>\n",
       "      <th>A</th>\n",
       "      <th>B</th>\n",
       "      <th>C</th>\n",
       "      <th>D</th>\n",
       "    </tr>\n",
       "  </thead>\n",
       "  <tbody>\n",
       "    <tr>\n",
       "      <th>2020-03-01</th>\n",
       "      <td>0.218452</td>\n",
       "      <td>-1.117835</td>\n",
       "      <td>0.627170</td>\n",
       "      <td>0.036061</td>\n",
       "    </tr>\n",
       "    <tr>\n",
       "      <th>2020-03-02</th>\n",
       "      <td>1.177871</td>\n",
       "      <td>1.073089</td>\n",
       "      <td>0.022829</td>\n",
       "      <td>1.721355</td>\n",
       "    </tr>\n",
       "    <tr>\n",
       "      <th>2020-03-04</th>\n",
       "      <td>0.761000</td>\n",
       "      <td>-0.256755</td>\n",
       "      <td>0.690346</td>\n",
       "      <td>-0.880438</td>\n",
       "    </tr>\n",
       "    <tr>\n",
       "      <th>2020-03-05</th>\n",
       "      <td>0.279220</td>\n",
       "      <td>-0.005334</td>\n",
       "      <td>-0.490968</td>\n",
       "      <td>-1.346226</td>\n",
       "    </tr>\n",
       "    <tr>\n",
       "      <th>2020-03-06</th>\n",
       "      <td>1.408994</td>\n",
       "      <td>0.149309</td>\n",
       "      <td>0.238073</td>\n",
       "      <td>-0.229853</td>\n",
       "    </tr>\n",
       "    <tr>\n",
       "      <th>2020-03-07</th>\n",
       "      <td>1.828160</td>\n",
       "      <td>0.999233</td>\n",
       "      <td>0.155802</td>\n",
       "      <td>-0.178435</td>\n",
       "    </tr>\n",
       "    <tr>\n",
       "      <th>2020-03-09</th>\n",
       "      <td>1.837476</td>\n",
       "      <td>0.600041</td>\n",
       "      <td>-0.556740</td>\n",
       "      <td>0.618797</td>\n",
       "    </tr>\n",
       "  </tbody>\n",
       "</table>\n",
       "</div>"
      ],
      "text/plain": [
       "                   A         B         C         D\n",
       "2020-03-01  0.218452 -1.117835  0.627170  0.036061\n",
       "2020-03-02  1.177871  1.073089  0.022829  1.721355\n",
       "2020-03-04  0.761000 -0.256755  0.690346 -0.880438\n",
       "2020-03-05  0.279220 -0.005334 -0.490968 -1.346226\n",
       "2020-03-06  1.408994  0.149309  0.238073 -0.229853\n",
       "2020-03-07  1.828160  0.999233  0.155802 -0.178435\n",
       "2020-03-09  1.837476  0.600041 -0.556740  0.618797"
      ]
     },
     "execution_count": 51,
     "metadata": {},
     "output_type": "execute_result"
    }
   ],
   "source": [
    "# giving boolean input\n",
    "df[df['A'] > 0]"
   ]
  },
  {
   "cell_type": "code",
   "execution_count": 52,
   "id": "2e382e21",
   "metadata": {},
   "outputs": [
    {
     "data": {
      "text/html": [
       "<div>\n",
       "<style scoped>\n",
       "    .dataframe tbody tr th:only-of-type {\n",
       "        vertical-align: middle;\n",
       "    }\n",
       "\n",
       "    .dataframe tbody tr th {\n",
       "        vertical-align: top;\n",
       "    }\n",
       "\n",
       "    .dataframe thead th {\n",
       "        text-align: right;\n",
       "    }\n",
       "</style>\n",
       "<table border=\"1\" class=\"dataframe\">\n",
       "  <thead>\n",
       "    <tr style=\"text-align: right;\">\n",
       "      <th></th>\n",
       "      <th>A</th>\n",
       "      <th>B</th>\n",
       "      <th>C</th>\n",
       "      <th>D</th>\n",
       "    </tr>\n",
       "  </thead>\n",
       "  <tbody>\n",
       "  </tbody>\n",
       "</table>\n",
       "</div>"
      ],
      "text/plain": [
       "Empty DataFrame\n",
       "Columns: [A, B, C, D]\n",
       "Index: []"
      ]
     },
     "execution_count": 52,
     "metadata": {},
     "output_type": "execute_result"
    }
   ],
   "source": [
    "df[df['B'] > 10]"
   ]
  },
  {
   "cell_type": "code",
   "execution_count": 53,
   "id": "b8d01e77",
   "metadata": {},
   "outputs": [],
   "source": [
    "# reindexing\n",
    "df3 = df.reindex(index = d[0:4], columns = list(df.columns) + ['E'])"
   ]
  },
  {
   "cell_type": "code",
   "execution_count": 54,
   "id": "ef3c7328",
   "metadata": {},
   "outputs": [
    {
     "data": {
      "text/html": [
       "<div>\n",
       "<style scoped>\n",
       "    .dataframe tbody tr th:only-of-type {\n",
       "        vertical-align: middle;\n",
       "    }\n",
       "\n",
       "    .dataframe tbody tr th {\n",
       "        vertical-align: top;\n",
       "    }\n",
       "\n",
       "    .dataframe thead th {\n",
       "        text-align: right;\n",
       "    }\n",
       "</style>\n",
       "<table border=\"1\" class=\"dataframe\">\n",
       "  <thead>\n",
       "    <tr style=\"text-align: right;\">\n",
       "      <th></th>\n",
       "      <th>A</th>\n",
       "      <th>B</th>\n",
       "      <th>C</th>\n",
       "      <th>D</th>\n",
       "      <th>E</th>\n",
       "    </tr>\n",
       "  </thead>\n",
       "  <tbody>\n",
       "    <tr>\n",
       "      <th>2020-03-01</th>\n",
       "      <td>0.218452</td>\n",
       "      <td>-1.117835</td>\n",
       "      <td>0.627170</td>\n",
       "      <td>0.036061</td>\n",
       "      <td>NaN</td>\n",
       "    </tr>\n",
       "    <tr>\n",
       "      <th>2020-03-02</th>\n",
       "      <td>1.177871</td>\n",
       "      <td>1.073089</td>\n",
       "      <td>0.022829</td>\n",
       "      <td>1.721355</td>\n",
       "      <td>NaN</td>\n",
       "    </tr>\n",
       "    <tr>\n",
       "      <th>2020-03-03</th>\n",
       "      <td>-2.520742</td>\n",
       "      <td>0.853793</td>\n",
       "      <td>0.574265</td>\n",
       "      <td>-2.063883</td>\n",
       "      <td>NaN</td>\n",
       "    </tr>\n",
       "    <tr>\n",
       "      <th>2020-03-04</th>\n",
       "      <td>0.761000</td>\n",
       "      <td>-0.256755</td>\n",
       "      <td>0.690346</td>\n",
       "      <td>-0.880438</td>\n",
       "      <td>NaN</td>\n",
       "    </tr>\n",
       "  </tbody>\n",
       "</table>\n",
       "</div>"
      ],
      "text/plain": [
       "                   A         B         C         D   E\n",
       "2020-03-01  0.218452 -1.117835  0.627170  0.036061 NaN\n",
       "2020-03-02  1.177871  1.073089  0.022829  1.721355 NaN\n",
       "2020-03-03 -2.520742  0.853793  0.574265 -2.063883 NaN\n",
       "2020-03-04  0.761000 -0.256755  0.690346 -0.880438 NaN"
      ]
     },
     "execution_count": 54,
     "metadata": {},
     "output_type": "execute_result"
    }
   ],
   "source": [
    "df3"
   ]
  },
  {
   "cell_type": "code",
   "execution_count": 55,
   "id": "6f99b610",
   "metadata": {},
   "outputs": [],
   "source": [
    "df3.loc[d[0]:d[1],'E'] = 1"
   ]
  },
  {
   "cell_type": "code",
   "execution_count": 56,
   "id": "a9e53a91",
   "metadata": {},
   "outputs": [
    {
     "data": {
      "text/html": [
       "<div>\n",
       "<style scoped>\n",
       "    .dataframe tbody tr th:only-of-type {\n",
       "        vertical-align: middle;\n",
       "    }\n",
       "\n",
       "    .dataframe tbody tr th {\n",
       "        vertical-align: top;\n",
       "    }\n",
       "\n",
       "    .dataframe thead th {\n",
       "        text-align: right;\n",
       "    }\n",
       "</style>\n",
       "<table border=\"1\" class=\"dataframe\">\n",
       "  <thead>\n",
       "    <tr style=\"text-align: right;\">\n",
       "      <th></th>\n",
       "      <th>A</th>\n",
       "      <th>B</th>\n",
       "      <th>C</th>\n",
       "      <th>D</th>\n",
       "      <th>E</th>\n",
       "    </tr>\n",
       "  </thead>\n",
       "  <tbody>\n",
       "    <tr>\n",
       "      <th>2020-03-01</th>\n",
       "      <td>0.218452</td>\n",
       "      <td>-1.117835</td>\n",
       "      <td>0.627170</td>\n",
       "      <td>0.036061</td>\n",
       "      <td>1.0</td>\n",
       "    </tr>\n",
       "    <tr>\n",
       "      <th>2020-03-02</th>\n",
       "      <td>1.177871</td>\n",
       "      <td>1.073089</td>\n",
       "      <td>0.022829</td>\n",
       "      <td>1.721355</td>\n",
       "      <td>1.0</td>\n",
       "    </tr>\n",
       "    <tr>\n",
       "      <th>2020-03-03</th>\n",
       "      <td>-2.520742</td>\n",
       "      <td>0.853793</td>\n",
       "      <td>0.574265</td>\n",
       "      <td>-2.063883</td>\n",
       "      <td>NaN</td>\n",
       "    </tr>\n",
       "    <tr>\n",
       "      <th>2020-03-04</th>\n",
       "      <td>0.761000</td>\n",
       "      <td>-0.256755</td>\n",
       "      <td>0.690346</td>\n",
       "      <td>-0.880438</td>\n",
       "      <td>NaN</td>\n",
       "    </tr>\n",
       "  </tbody>\n",
       "</table>\n",
       "</div>"
      ],
      "text/plain": [
       "                   A         B         C         D    E\n",
       "2020-03-01  0.218452 -1.117835  0.627170  0.036061  1.0\n",
       "2020-03-02  1.177871  1.073089  0.022829  1.721355  1.0\n",
       "2020-03-03 -2.520742  0.853793  0.574265 -2.063883  NaN\n",
       "2020-03-04  0.761000 -0.256755  0.690346 -0.880438  NaN"
      ]
     },
     "execution_count": 56,
     "metadata": {},
     "output_type": "execute_result"
    }
   ],
   "source": [
    "df3"
   ]
  },
  {
   "cell_type": "code",
   "execution_count": 57,
   "id": "0c985b19",
   "metadata": {},
   "outputs": [
    {
     "data": {
      "text/html": [
       "<div>\n",
       "<style scoped>\n",
       "    .dataframe tbody tr th:only-of-type {\n",
       "        vertical-align: middle;\n",
       "    }\n",
       "\n",
       "    .dataframe tbody tr th {\n",
       "        vertical-align: top;\n",
       "    }\n",
       "\n",
       "    .dataframe thead th {\n",
       "        text-align: right;\n",
       "    }\n",
       "</style>\n",
       "<table border=\"1\" class=\"dataframe\">\n",
       "  <thead>\n",
       "    <tr style=\"text-align: right;\">\n",
       "      <th></th>\n",
       "      <th>A</th>\n",
       "      <th>B</th>\n",
       "      <th>C</th>\n",
       "      <th>D</th>\n",
       "      <th>E</th>\n",
       "    </tr>\n",
       "  </thead>\n",
       "  <tbody>\n",
       "    <tr>\n",
       "      <th>2020-03-01</th>\n",
       "      <td>False</td>\n",
       "      <td>False</td>\n",
       "      <td>False</td>\n",
       "      <td>False</td>\n",
       "      <td>False</td>\n",
       "    </tr>\n",
       "    <tr>\n",
       "      <th>2020-03-02</th>\n",
       "      <td>False</td>\n",
       "      <td>False</td>\n",
       "      <td>False</td>\n",
       "      <td>False</td>\n",
       "      <td>False</td>\n",
       "    </tr>\n",
       "    <tr>\n",
       "      <th>2020-03-03</th>\n",
       "      <td>False</td>\n",
       "      <td>False</td>\n",
       "      <td>False</td>\n",
       "      <td>False</td>\n",
       "      <td>True</td>\n",
       "    </tr>\n",
       "    <tr>\n",
       "      <th>2020-03-04</th>\n",
       "      <td>False</td>\n",
       "      <td>False</td>\n",
       "      <td>False</td>\n",
       "      <td>False</td>\n",
       "      <td>True</td>\n",
       "    </tr>\n",
       "  </tbody>\n",
       "</table>\n",
       "</div>"
      ],
      "text/plain": [
       "                A      B      C      D      E\n",
       "2020-03-01  False  False  False  False  False\n",
       "2020-03-02  False  False  False  False  False\n",
       "2020-03-03  False  False  False  False   True\n",
       "2020-03-04  False  False  False  False   True"
      ]
     },
     "execution_count": 57,
     "metadata": {},
     "output_type": "execute_result"
    }
   ],
   "source": [
    "df3.isnull()"
   ]
  },
  {
   "cell_type": "code",
   "execution_count": 58,
   "id": "d910e4b7",
   "metadata": {},
   "outputs": [
    {
     "data": {
      "text/plain": [
       "A    4\n",
       "B    4\n",
       "C    4\n",
       "D    4\n",
       "E    4\n",
       "dtype: int64"
      ]
     },
     "execution_count": 58,
     "metadata": {},
     "output_type": "execute_result"
    }
   ],
   "source": [
    "df3.isnull().count()"
   ]
  },
  {
   "cell_type": "code",
   "execution_count": 59,
   "id": "839fcadd",
   "metadata": {},
   "outputs": [
    {
     "data": {
      "text/html": [
       "<div>\n",
       "<style scoped>\n",
       "    .dataframe tbody tr th:only-of-type {\n",
       "        vertical-align: middle;\n",
       "    }\n",
       "\n",
       "    .dataframe tbody tr th {\n",
       "        vertical-align: top;\n",
       "    }\n",
       "\n",
       "    .dataframe thead th {\n",
       "        text-align: right;\n",
       "    }\n",
       "</style>\n",
       "<table border=\"1\" class=\"dataframe\">\n",
       "  <thead>\n",
       "    <tr style=\"text-align: right;\">\n",
       "      <th></th>\n",
       "      <th>A</th>\n",
       "      <th>B</th>\n",
       "      <th>C</th>\n",
       "      <th>D</th>\n",
       "      <th>E</th>\n",
       "    </tr>\n",
       "  </thead>\n",
       "  <tbody>\n",
       "    <tr>\n",
       "      <th>2020-03-01</th>\n",
       "      <td>0.218452</td>\n",
       "      <td>-1.117835</td>\n",
       "      <td>0.627170</td>\n",
       "      <td>0.036061</td>\n",
       "      <td>1.0</td>\n",
       "    </tr>\n",
       "    <tr>\n",
       "      <th>2020-03-02</th>\n",
       "      <td>1.177871</td>\n",
       "      <td>1.073089</td>\n",
       "      <td>0.022829</td>\n",
       "      <td>1.721355</td>\n",
       "      <td>1.0</td>\n",
       "    </tr>\n",
       "  </tbody>\n",
       "</table>\n",
       "</div>"
      ],
      "text/plain": [
       "                   A         B         C         D    E\n",
       "2020-03-01  0.218452 -1.117835  0.627170  0.036061  1.0\n",
       "2020-03-02  1.177871  1.073089  0.022829  1.721355  1.0"
      ]
     },
     "execution_count": 59,
     "metadata": {},
     "output_type": "execute_result"
    }
   ],
   "source": [
    "df3.dropna()"
   ]
  },
  {
   "cell_type": "code",
   "execution_count": 60,
   "id": "f6f0addc",
   "metadata": {},
   "outputs": [
    {
     "data": {
      "text/html": [
       "<div>\n",
       "<style scoped>\n",
       "    .dataframe tbody tr th:only-of-type {\n",
       "        vertical-align: middle;\n",
       "    }\n",
       "\n",
       "    .dataframe tbody tr th {\n",
       "        vertical-align: top;\n",
       "    }\n",
       "\n",
       "    .dataframe thead th {\n",
       "        text-align: right;\n",
       "    }\n",
       "</style>\n",
       "<table border=\"1\" class=\"dataframe\">\n",
       "  <thead>\n",
       "    <tr style=\"text-align: right;\">\n",
       "      <th></th>\n",
       "      <th>A</th>\n",
       "      <th>B</th>\n",
       "      <th>C</th>\n",
       "      <th>D</th>\n",
       "      <th>E</th>\n",
       "    </tr>\n",
       "  </thead>\n",
       "  <tbody>\n",
       "    <tr>\n",
       "      <th>0</th>\n",
       "      <td>1</td>\n",
       "      <td>2022-02-01</td>\n",
       "      <td>1.0</td>\n",
       "      <td>5</td>\n",
       "      <td>Edureka</td>\n",
       "    </tr>\n",
       "    <tr>\n",
       "      <th>1</th>\n",
       "      <td>2</td>\n",
       "      <td>2022-02-01</td>\n",
       "      <td>1.0</td>\n",
       "      <td>5</td>\n",
       "      <td>Edureka</td>\n",
       "    </tr>\n",
       "    <tr>\n",
       "      <th>2</th>\n",
       "      <td>3</td>\n",
       "      <td>2022-02-01</td>\n",
       "      <td>1.0</td>\n",
       "      <td>5</td>\n",
       "      <td>Edureka</td>\n",
       "    </tr>\n",
       "    <tr>\n",
       "      <th>3</th>\n",
       "      <td>4</td>\n",
       "      <td>2022-02-01</td>\n",
       "      <td>1.0</td>\n",
       "      <td>5</td>\n",
       "      <td>Edureka</td>\n",
       "    </tr>\n",
       "  </tbody>\n",
       "</table>\n",
       "</div>"
      ],
      "text/plain": [
       "   A          B    C  D        E\n",
       "0  1 2022-02-01  1.0  5  Edureka\n",
       "1  2 2022-02-01  1.0  5  Edureka\n",
       "2  3 2022-02-01  1.0  5  Edureka\n",
       "3  4 2022-02-01  1.0  5  Edureka"
      ]
     },
     "execution_count": 60,
     "metadata": {},
     "output_type": "execute_result"
    }
   ],
   "source": [
    "df2.fillna(value=2)"
   ]
  },
  {
   "cell_type": "code",
   "execution_count": 61,
   "id": "e2c3575c",
   "metadata": {},
   "outputs": [
    {
     "data": {
      "text/html": [
       "<div>\n",
       "<style scoped>\n",
       "    .dataframe tbody tr th:only-of-type {\n",
       "        vertical-align: middle;\n",
       "    }\n",
       "\n",
       "    .dataframe tbody tr th {\n",
       "        vertical-align: top;\n",
       "    }\n",
       "\n",
       "    .dataframe thead th {\n",
       "        text-align: right;\n",
       "    }\n",
       "</style>\n",
       "<table border=\"1\" class=\"dataframe\">\n",
       "  <thead>\n",
       "    <tr style=\"text-align: right;\">\n",
       "      <th></th>\n",
       "      <th>A</th>\n",
       "      <th>B</th>\n",
       "      <th>C</th>\n",
       "      <th>D</th>\n",
       "      <th>E</th>\n",
       "    </tr>\n",
       "  </thead>\n",
       "  <tbody>\n",
       "    <tr>\n",
       "      <th>2020-03-01</th>\n",
       "      <td>False</td>\n",
       "      <td>False</td>\n",
       "      <td>False</td>\n",
       "      <td>False</td>\n",
       "      <td>False</td>\n",
       "    </tr>\n",
       "    <tr>\n",
       "      <th>2020-03-02</th>\n",
       "      <td>False</td>\n",
       "      <td>False</td>\n",
       "      <td>False</td>\n",
       "      <td>False</td>\n",
       "      <td>False</td>\n",
       "    </tr>\n",
       "    <tr>\n",
       "      <th>2020-03-03</th>\n",
       "      <td>False</td>\n",
       "      <td>False</td>\n",
       "      <td>False</td>\n",
       "      <td>False</td>\n",
       "      <td>True</td>\n",
       "    </tr>\n",
       "    <tr>\n",
       "      <th>2020-03-04</th>\n",
       "      <td>False</td>\n",
       "      <td>False</td>\n",
       "      <td>False</td>\n",
       "      <td>False</td>\n",
       "      <td>True</td>\n",
       "    </tr>\n",
       "  </tbody>\n",
       "</table>\n",
       "</div>"
      ],
      "text/plain": [
       "                A      B      C      D      E\n",
       "2020-03-01  False  False  False  False  False\n",
       "2020-03-02  False  False  False  False  False\n",
       "2020-03-03  False  False  False  False   True\n",
       "2020-03-04  False  False  False  False   True"
      ]
     },
     "execution_count": 61,
     "metadata": {},
     "output_type": "execute_result"
    }
   ],
   "source": [
    "pd.isna(df3)"
   ]
  },
  {
   "cell_type": "code",
   "execution_count": 62,
   "id": "608e8b4c",
   "metadata": {},
   "outputs": [
    {
     "data": {
      "text/plain": [
       "A    0.458188\n",
       "B    0.092355\n",
       "C    0.119685\n",
       "D   -0.100170\n",
       "dtype: float64"
      ]
     },
     "execution_count": 62,
     "metadata": {},
     "output_type": "execute_result"
    }
   ],
   "source": [
    "df.mean()"
   ]
  },
  {
   "cell_type": "code",
   "execution_count": 63,
   "id": "3a416d5c",
   "metadata": {},
   "outputs": [
    {
     "data": {
      "text/plain": [
       "2020-03-01   -0.059038\n",
       "2020-03-02    0.998786\n",
       "2020-03-03   -0.789142\n",
       "2020-03-04    0.078538\n",
       "2020-03-05   -0.390827\n",
       "2020-03-06    0.391631\n",
       "2020-03-07    0.701190\n",
       "2020-03-08    0.435011\n",
       "2020-03-09    0.624894\n",
       "2020-03-10   -0.565899\n",
       "Freq: D, dtype: float64"
      ]
     },
     "execution_count": 63,
     "metadata": {},
     "output_type": "execute_result"
    }
   ],
   "source": [
    "df.mean(1)"
   ]
  },
  {
   "cell_type": "code",
   "execution_count": 64,
   "id": "78099385",
   "metadata": {},
   "outputs": [],
   "source": [
    "s = pd.Series([1,2,3,np.nan,4,5,6,7,8,9], index = d).shift(2)"
   ]
  },
  {
   "cell_type": "code",
   "execution_count": 65,
   "id": "4f3f4f24",
   "metadata": {},
   "outputs": [
    {
     "data": {
      "text/plain": [
       "2020-03-01    NaN\n",
       "2020-03-02    NaN\n",
       "2020-03-03    1.0\n",
       "2020-03-04    2.0\n",
       "2020-03-05    3.0\n",
       "2020-03-06    NaN\n",
       "2020-03-07    4.0\n",
       "2020-03-08    5.0\n",
       "2020-03-09    6.0\n",
       "2020-03-10    7.0\n",
       "Freq: D, dtype: float64"
      ]
     },
     "execution_count": 65,
     "metadata": {},
     "output_type": "execute_result"
    }
   ],
   "source": [
    "s"
   ]
  },
  {
   "cell_type": "code",
   "execution_count": 66,
   "id": "e1f914ee",
   "metadata": {},
   "outputs": [
    {
     "data": {
      "text/html": [
       "<div>\n",
       "<style scoped>\n",
       "    .dataframe tbody tr th:only-of-type {\n",
       "        vertical-align: middle;\n",
       "    }\n",
       "\n",
       "    .dataframe tbody tr th {\n",
       "        vertical-align: top;\n",
       "    }\n",
       "\n",
       "    .dataframe thead th {\n",
       "        text-align: right;\n",
       "    }\n",
       "</style>\n",
       "<table border=\"1\" class=\"dataframe\">\n",
       "  <thead>\n",
       "    <tr style=\"text-align: right;\">\n",
       "      <th></th>\n",
       "      <th>A</th>\n",
       "      <th>B</th>\n",
       "      <th>C</th>\n",
       "      <th>D</th>\n",
       "    </tr>\n",
       "  </thead>\n",
       "  <tbody>\n",
       "    <tr>\n",
       "      <th>2020-03-01</th>\n",
       "      <td>NaN</td>\n",
       "      <td>NaN</td>\n",
       "      <td>NaN</td>\n",
       "      <td>NaN</td>\n",
       "    </tr>\n",
       "    <tr>\n",
       "      <th>2020-03-02</th>\n",
       "      <td>NaN</td>\n",
       "      <td>NaN</td>\n",
       "      <td>NaN</td>\n",
       "      <td>NaN</td>\n",
       "    </tr>\n",
       "    <tr>\n",
       "      <th>2020-03-03</th>\n",
       "      <td>-3.520742</td>\n",
       "      <td>-0.146207</td>\n",
       "      <td>-0.425735</td>\n",
       "      <td>-3.063883</td>\n",
       "    </tr>\n",
       "    <tr>\n",
       "      <th>2020-03-04</th>\n",
       "      <td>-1.239000</td>\n",
       "      <td>-2.256755</td>\n",
       "      <td>-1.309654</td>\n",
       "      <td>-2.880438</td>\n",
       "    </tr>\n",
       "    <tr>\n",
       "      <th>2020-03-05</th>\n",
       "      <td>-2.720780</td>\n",
       "      <td>-3.005334</td>\n",
       "      <td>-3.490968</td>\n",
       "      <td>-4.346226</td>\n",
       "    </tr>\n",
       "    <tr>\n",
       "      <th>2020-03-06</th>\n",
       "      <td>NaN</td>\n",
       "      <td>NaN</td>\n",
       "      <td>NaN</td>\n",
       "      <td>NaN</td>\n",
       "    </tr>\n",
       "    <tr>\n",
       "      <th>2020-03-07</th>\n",
       "      <td>-2.171840</td>\n",
       "      <td>-3.000767</td>\n",
       "      <td>-3.844198</td>\n",
       "      <td>-4.178435</td>\n",
       "    </tr>\n",
       "    <tr>\n",
       "      <th>2020-03-08</th>\n",
       "      <td>-5.340873</td>\n",
       "      <td>-4.677681</td>\n",
       "      <td>-4.674606</td>\n",
       "      <td>-3.566796</td>\n",
       "    </tr>\n",
       "    <tr>\n",
       "      <th>2020-03-09</th>\n",
       "      <td>-4.162524</td>\n",
       "      <td>-5.399959</td>\n",
       "      <td>-6.556740</td>\n",
       "      <td>-5.381203</td>\n",
       "    </tr>\n",
       "    <tr>\n",
       "      <th>2020-03-10</th>\n",
       "      <td>-7.067683</td>\n",
       "      <td>-8.694308</td>\n",
       "      <td>-7.389320</td>\n",
       "      <td>-7.112285</td>\n",
       "    </tr>\n",
       "  </tbody>\n",
       "</table>\n",
       "</div>"
      ],
      "text/plain": [
       "                   A         B         C         D\n",
       "2020-03-01       NaN       NaN       NaN       NaN\n",
       "2020-03-02       NaN       NaN       NaN       NaN\n",
       "2020-03-03 -3.520742 -0.146207 -0.425735 -3.063883\n",
       "2020-03-04 -1.239000 -2.256755 -1.309654 -2.880438\n",
       "2020-03-05 -2.720780 -3.005334 -3.490968 -4.346226\n",
       "2020-03-06       NaN       NaN       NaN       NaN\n",
       "2020-03-07 -2.171840 -3.000767 -3.844198 -4.178435\n",
       "2020-03-08 -5.340873 -4.677681 -4.674606 -3.566796\n",
       "2020-03-09 -4.162524 -5.399959 -6.556740 -5.381203\n",
       "2020-03-10 -7.067683 -8.694308 -7.389320 -7.112285"
      ]
     },
     "execution_count": 66,
     "metadata": {},
     "output_type": "execute_result"
    }
   ],
   "source": [
    "df.sub(s, axis ='index')"
   ]
  },
  {
   "cell_type": "code",
   "execution_count": 67,
   "id": "6526893c",
   "metadata": {},
   "outputs": [
    {
     "data": {
      "text/html": [
       "<div>\n",
       "<style scoped>\n",
       "    .dataframe tbody tr th:only-of-type {\n",
       "        vertical-align: middle;\n",
       "    }\n",
       "\n",
       "    .dataframe tbody tr th {\n",
       "        vertical-align: top;\n",
       "    }\n",
       "\n",
       "    .dataframe thead th {\n",
       "        text-align: right;\n",
       "    }\n",
       "</style>\n",
       "<table border=\"1\" class=\"dataframe\">\n",
       "  <thead>\n",
       "    <tr style=\"text-align: right;\">\n",
       "      <th></th>\n",
       "      <th>A</th>\n",
       "      <th>B</th>\n",
       "      <th>C</th>\n",
       "      <th>D</th>\n",
       "    </tr>\n",
       "  </thead>\n",
       "  <tbody>\n",
       "    <tr>\n",
       "      <th>2020-03-01</th>\n",
       "      <td>0.218452</td>\n",
       "      <td>-1.117835</td>\n",
       "      <td>0.627170</td>\n",
       "      <td>0.036061</td>\n",
       "    </tr>\n",
       "    <tr>\n",
       "      <th>2020-03-02</th>\n",
       "      <td>1.177871</td>\n",
       "      <td>1.073089</td>\n",
       "      <td>0.022829</td>\n",
       "      <td>1.721355</td>\n",
       "    </tr>\n",
       "    <tr>\n",
       "      <th>2020-03-03</th>\n",
       "      <td>-2.520742</td>\n",
       "      <td>0.853793</td>\n",
       "      <td>0.574265</td>\n",
       "      <td>-2.063883</td>\n",
       "    </tr>\n",
       "    <tr>\n",
       "      <th>2020-03-04</th>\n",
       "      <td>0.761000</td>\n",
       "      <td>-0.256755</td>\n",
       "      <td>0.690346</td>\n",
       "      <td>-0.880438</td>\n",
       "    </tr>\n",
       "    <tr>\n",
       "      <th>2020-03-05</th>\n",
       "      <td>0.279220</td>\n",
       "      <td>-0.005334</td>\n",
       "      <td>-0.490968</td>\n",
       "      <td>-1.346226</td>\n",
       "    </tr>\n",
       "    <tr>\n",
       "      <th>2020-03-06</th>\n",
       "      <td>1.408994</td>\n",
       "      <td>0.149309</td>\n",
       "      <td>0.238073</td>\n",
       "      <td>-0.229853</td>\n",
       "    </tr>\n",
       "    <tr>\n",
       "      <th>2020-03-07</th>\n",
       "      <td>1.828160</td>\n",
       "      <td>0.999233</td>\n",
       "      <td>0.155802</td>\n",
       "      <td>-0.178435</td>\n",
       "    </tr>\n",
       "    <tr>\n",
       "      <th>2020-03-08</th>\n",
       "      <td>-0.340873</td>\n",
       "      <td>0.322319</td>\n",
       "      <td>0.325394</td>\n",
       "      <td>1.433204</td>\n",
       "    </tr>\n",
       "    <tr>\n",
       "      <th>2020-03-09</th>\n",
       "      <td>1.837476</td>\n",
       "      <td>0.600041</td>\n",
       "      <td>-0.556740</td>\n",
       "      <td>0.618797</td>\n",
       "    </tr>\n",
       "    <tr>\n",
       "      <th>2020-03-10</th>\n",
       "      <td>-0.067683</td>\n",
       "      <td>-1.694308</td>\n",
       "      <td>-0.389320</td>\n",
       "      <td>-0.112285</td>\n",
       "    </tr>\n",
       "  </tbody>\n",
       "</table>\n",
       "</div>"
      ],
      "text/plain": [
       "                   A         B         C         D\n",
       "2020-03-01  0.218452 -1.117835  0.627170  0.036061\n",
       "2020-03-02  1.177871  1.073089  0.022829  1.721355\n",
       "2020-03-03 -2.520742  0.853793  0.574265 -2.063883\n",
       "2020-03-04  0.761000 -0.256755  0.690346 -0.880438\n",
       "2020-03-05  0.279220 -0.005334 -0.490968 -1.346226\n",
       "2020-03-06  1.408994  0.149309  0.238073 -0.229853\n",
       "2020-03-07  1.828160  0.999233  0.155802 -0.178435\n",
       "2020-03-08 -0.340873  0.322319  0.325394  1.433204\n",
       "2020-03-09  1.837476  0.600041 -0.556740  0.618797\n",
       "2020-03-10 -0.067683 -1.694308 -0.389320 -0.112285"
      ]
     },
     "execution_count": 67,
     "metadata": {},
     "output_type": "execute_result"
    }
   ],
   "source": [
    "df"
   ]
  },
  {
   "cell_type": "code",
   "execution_count": 68,
   "id": "95af6c58",
   "metadata": {},
   "outputs": [
    {
     "data": {
      "text/html": [
       "<div>\n",
       "<style scoped>\n",
       "    .dataframe tbody tr th:only-of-type {\n",
       "        vertical-align: middle;\n",
       "    }\n",
       "\n",
       "    .dataframe tbody tr th {\n",
       "        vertical-align: top;\n",
       "    }\n",
       "\n",
       "    .dataframe thead th {\n",
       "        text-align: right;\n",
       "    }\n",
       "</style>\n",
       "<table border=\"1\" class=\"dataframe\">\n",
       "  <thead>\n",
       "    <tr style=\"text-align: right;\">\n",
       "      <th></th>\n",
       "      <th>A</th>\n",
       "      <th>B</th>\n",
       "      <th>C</th>\n",
       "      <th>D</th>\n",
       "    </tr>\n",
       "  </thead>\n",
       "  <tbody>\n",
       "    <tr>\n",
       "      <th>2020-03-01</th>\n",
       "      <td>0.218452</td>\n",
       "      <td>-1.117835</td>\n",
       "      <td>0.627170</td>\n",
       "      <td>0.036061</td>\n",
       "    </tr>\n",
       "    <tr>\n",
       "      <th>2020-03-02</th>\n",
       "      <td>1.396323</td>\n",
       "      <td>-0.044746</td>\n",
       "      <td>0.649999</td>\n",
       "      <td>1.757416</td>\n",
       "    </tr>\n",
       "    <tr>\n",
       "      <th>2020-03-03</th>\n",
       "      <td>-1.124419</td>\n",
       "      <td>0.809048</td>\n",
       "      <td>1.224264</td>\n",
       "      <td>-0.306467</td>\n",
       "    </tr>\n",
       "    <tr>\n",
       "      <th>2020-03-04</th>\n",
       "      <td>-0.363419</td>\n",
       "      <td>0.552293</td>\n",
       "      <td>1.914610</td>\n",
       "      <td>-1.186905</td>\n",
       "    </tr>\n",
       "    <tr>\n",
       "      <th>2020-03-05</th>\n",
       "      <td>-0.084200</td>\n",
       "      <td>0.546959</td>\n",
       "      <td>1.423642</td>\n",
       "      <td>-2.533132</td>\n",
       "    </tr>\n",
       "    <tr>\n",
       "      <th>2020-03-06</th>\n",
       "      <td>1.324795</td>\n",
       "      <td>0.696268</td>\n",
       "      <td>1.661715</td>\n",
       "      <td>-2.762985</td>\n",
       "    </tr>\n",
       "    <tr>\n",
       "      <th>2020-03-07</th>\n",
       "      <td>3.152955</td>\n",
       "      <td>1.695501</td>\n",
       "      <td>1.817517</td>\n",
       "      <td>-2.941420</td>\n",
       "    </tr>\n",
       "    <tr>\n",
       "      <th>2020-03-08</th>\n",
       "      <td>2.812083</td>\n",
       "      <td>2.017820</td>\n",
       "      <td>2.142911</td>\n",
       "      <td>-1.508216</td>\n",
       "    </tr>\n",
       "    <tr>\n",
       "      <th>2020-03-09</th>\n",
       "      <td>4.649559</td>\n",
       "      <td>2.617861</td>\n",
       "      <td>1.586171</td>\n",
       "      <td>-0.889419</td>\n",
       "    </tr>\n",
       "    <tr>\n",
       "      <th>2020-03-10</th>\n",
       "      <td>4.581876</td>\n",
       "      <td>0.923554</td>\n",
       "      <td>1.196852</td>\n",
       "      <td>-1.001704</td>\n",
       "    </tr>\n",
       "  </tbody>\n",
       "</table>\n",
       "</div>"
      ],
      "text/plain": [
       "                   A         B         C         D\n",
       "2020-03-01  0.218452 -1.117835  0.627170  0.036061\n",
       "2020-03-02  1.396323 -0.044746  0.649999  1.757416\n",
       "2020-03-03 -1.124419  0.809048  1.224264 -0.306467\n",
       "2020-03-04 -0.363419  0.552293  1.914610 -1.186905\n",
       "2020-03-05 -0.084200  0.546959  1.423642 -2.533132\n",
       "2020-03-06  1.324795  0.696268  1.661715 -2.762985\n",
       "2020-03-07  3.152955  1.695501  1.817517 -2.941420\n",
       "2020-03-08  2.812083  2.017820  2.142911 -1.508216\n",
       "2020-03-09  4.649559  2.617861  1.586171 -0.889419\n",
       "2020-03-10  4.581876  0.923554  1.196852 -1.001704"
      ]
     },
     "execution_count": 68,
     "metadata": {},
     "output_type": "execute_result"
    }
   ],
   "source": [
    "df.apply(np.cumsum)"
   ]
  },
  {
   "cell_type": "code",
   "execution_count": 69,
   "id": "7455e65b",
   "metadata": {},
   "outputs": [
    {
     "data": {
      "text/plain": [
       "A    4.358218\n",
       "B    2.767397\n",
       "C    1.247086\n",
       "D    3.785238\n",
       "dtype: float64"
      ]
     },
     "execution_count": 69,
     "metadata": {},
     "output_type": "execute_result"
    }
   ],
   "source": [
    "df.apply(lambda x: x.max() - x.min())"
   ]
  },
  {
   "cell_type": "markdown",
   "id": "5b356999",
   "metadata": {},
   "source": [
    "## histogram is a representation of distribution of data"
   ]
  },
  {
   "cell_type": "code",
   "execution_count": 70,
   "id": "738ca711",
   "metadata": {},
   "outputs": [
    {
     "data": {
      "text/plain": [
       "1.0    1\n",
       "2.0    1\n",
       "3.0    1\n",
       "4.0    1\n",
       "5.0    1\n",
       "6.0    1\n",
       "7.0    1\n",
       "dtype: int64"
      ]
     },
     "execution_count": 70,
     "metadata": {},
     "output_type": "execute_result"
    }
   ],
   "source": [
    "s.value_counts()"
   ]
  },
  {
   "cell_type": "code",
   "execution_count": 71,
   "id": "95f0256d",
   "metadata": {},
   "outputs": [],
   "source": [
    "s = pd.Series(['Edureka','Python','Jupyter',np.nan,'football','world'])"
   ]
  },
  {
   "cell_type": "code",
   "execution_count": 72,
   "id": "d268fea2",
   "metadata": {},
   "outputs": [
    {
     "data": {
      "text/plain": [
       "0     edureka\n",
       "1      python\n",
       "2     jupyter\n",
       "3         NaN\n",
       "4    football\n",
       "5       world\n",
       "dtype: object"
      ]
     },
     "execution_count": 72,
     "metadata": {},
     "output_type": "execute_result"
    }
   ],
   "source": [
    "s.str.lower()"
   ]
  },
  {
   "cell_type": "code",
   "execution_count": 73,
   "id": "cce7d275",
   "metadata": {},
   "outputs": [
    {
     "data": {
      "text/plain": [
       "0     EDUREKA\n",
       "1      PYTHON\n",
       "2     JUPYTER\n",
       "3         NaN\n",
       "4    FOOTBALL\n",
       "5       WORLD\n",
       "dtype: object"
      ]
     },
     "execution_count": 73,
     "metadata": {},
     "output_type": "execute_result"
    }
   ],
   "source": [
    "s.str.upper()"
   ]
  },
  {
   "cell_type": "code",
   "execution_count": 74,
   "id": "21df9115",
   "metadata": {},
   "outputs": [],
   "source": [
    "df = pd.DataFrame(np.random.randn(10,4))"
   ]
  },
  {
   "cell_type": "code",
   "execution_count": 75,
   "id": "9754ccd8",
   "metadata": {},
   "outputs": [
    {
     "data": {
      "text/html": [
       "<div>\n",
       "<style scoped>\n",
       "    .dataframe tbody tr th:only-of-type {\n",
       "        vertical-align: middle;\n",
       "    }\n",
       "\n",
       "    .dataframe tbody tr th {\n",
       "        vertical-align: top;\n",
       "    }\n",
       "\n",
       "    .dataframe thead th {\n",
       "        text-align: right;\n",
       "    }\n",
       "</style>\n",
       "<table border=\"1\" class=\"dataframe\">\n",
       "  <thead>\n",
       "    <tr style=\"text-align: right;\">\n",
       "      <th></th>\n",
       "      <th>0</th>\n",
       "      <th>1</th>\n",
       "      <th>2</th>\n",
       "      <th>3</th>\n",
       "    </tr>\n",
       "  </thead>\n",
       "  <tbody>\n",
       "    <tr>\n",
       "      <th>0</th>\n",
       "      <td>-0.726824</td>\n",
       "      <td>-0.508471</td>\n",
       "      <td>-0.147426</td>\n",
       "      <td>0.844640</td>\n",
       "    </tr>\n",
       "    <tr>\n",
       "      <th>1</th>\n",
       "      <td>-1.130980</td>\n",
       "      <td>-1.974908</td>\n",
       "      <td>0.897623</td>\n",
       "      <td>0.902611</td>\n",
       "    </tr>\n",
       "    <tr>\n",
       "      <th>2</th>\n",
       "      <td>0.618595</td>\n",
       "      <td>-1.945991</td>\n",
       "      <td>0.820329</td>\n",
       "      <td>-0.910979</td>\n",
       "    </tr>\n",
       "    <tr>\n",
       "      <th>3</th>\n",
       "      <td>-0.774346</td>\n",
       "      <td>-0.925586</td>\n",
       "      <td>1.999844</td>\n",
       "      <td>-1.578858</td>\n",
       "    </tr>\n",
       "    <tr>\n",
       "      <th>4</th>\n",
       "      <td>-0.578087</td>\n",
       "      <td>0.234395</td>\n",
       "      <td>1.210943</td>\n",
       "      <td>0.442198</td>\n",
       "    </tr>\n",
       "    <tr>\n",
       "      <th>5</th>\n",
       "      <td>1.249943</td>\n",
       "      <td>0.469273</td>\n",
       "      <td>-3.545735</td>\n",
       "      <td>0.602416</td>\n",
       "    </tr>\n",
       "    <tr>\n",
       "      <th>6</th>\n",
       "      <td>-1.365915</td>\n",
       "      <td>-0.801405</td>\n",
       "      <td>-0.362440</td>\n",
       "      <td>0.872419</td>\n",
       "    </tr>\n",
       "    <tr>\n",
       "      <th>7</th>\n",
       "      <td>0.223713</td>\n",
       "      <td>-1.219781</td>\n",
       "      <td>-1.195082</td>\n",
       "      <td>-0.132043</td>\n",
       "    </tr>\n",
       "    <tr>\n",
       "      <th>8</th>\n",
       "      <td>-0.394235</td>\n",
       "      <td>1.230256</td>\n",
       "      <td>0.011556</td>\n",
       "      <td>-0.975836</td>\n",
       "    </tr>\n",
       "    <tr>\n",
       "      <th>9</th>\n",
       "      <td>-1.437452</td>\n",
       "      <td>0.482737</td>\n",
       "      <td>1.321766</td>\n",
       "      <td>-0.167353</td>\n",
       "    </tr>\n",
       "  </tbody>\n",
       "</table>\n",
       "</div>"
      ],
      "text/plain": [
       "          0         1         2         3\n",
       "0 -0.726824 -0.508471 -0.147426  0.844640\n",
       "1 -1.130980 -1.974908  0.897623  0.902611\n",
       "2  0.618595 -1.945991  0.820329 -0.910979\n",
       "3 -0.774346 -0.925586  1.999844 -1.578858\n",
       "4 -0.578087  0.234395  1.210943  0.442198\n",
       "5  1.249943  0.469273 -3.545735  0.602416\n",
       "6 -1.365915 -0.801405 -0.362440  0.872419\n",
       "7  0.223713 -1.219781 -1.195082 -0.132043\n",
       "8 -0.394235  1.230256  0.011556 -0.975836\n",
       "9 -1.437452  0.482737  1.321766 -0.167353"
      ]
     },
     "execution_count": 75,
     "metadata": {},
     "output_type": "execute_result"
    }
   ],
   "source": [
    "df"
   ]
  },
  {
   "cell_type": "code",
   "execution_count": 76,
   "id": "3430fe63",
   "metadata": {},
   "outputs": [],
   "source": [
    "df2 = [df[:3], df[3:7], df[7:]]"
   ]
  },
  {
   "cell_type": "code",
   "execution_count": 77,
   "id": "9a25b9c3",
   "metadata": {
    "scrolled": true
   },
   "outputs": [
    {
     "data": {
      "text/plain": [
       "[          0         1         2         3\n",
       " 0 -0.726824 -0.508471 -0.147426  0.844640\n",
       " 1 -1.130980 -1.974908  0.897623  0.902611\n",
       " 2  0.618595 -1.945991  0.820329 -0.910979,\n",
       "           0         1         2         3\n",
       " 3 -0.774346 -0.925586  1.999844 -1.578858\n",
       " 4 -0.578087  0.234395  1.210943  0.442198\n",
       " 5  1.249943  0.469273 -3.545735  0.602416\n",
       " 6 -1.365915 -0.801405 -0.362440  0.872419,\n",
       "           0         1         2         3\n",
       " 7  0.223713 -1.219781 -1.195082 -0.132043\n",
       " 8 -0.394235  1.230256  0.011556 -0.975836\n",
       " 9 -1.437452  0.482737  1.321766 -0.167353]"
      ]
     },
     "execution_count": 77,
     "metadata": {},
     "output_type": "execute_result"
    }
   ],
   "source": [
    "df2"
   ]
  },
  {
   "cell_type": "code",
   "execution_count": 78,
   "id": "4e36180f",
   "metadata": {},
   "outputs": [
    {
     "data": {
      "text/html": [
       "<div>\n",
       "<style scoped>\n",
       "    .dataframe tbody tr th:only-of-type {\n",
       "        vertical-align: middle;\n",
       "    }\n",
       "\n",
       "    .dataframe tbody tr th {\n",
       "        vertical-align: top;\n",
       "    }\n",
       "\n",
       "    .dataframe thead th {\n",
       "        text-align: right;\n",
       "    }\n",
       "</style>\n",
       "<table border=\"1\" class=\"dataframe\">\n",
       "  <thead>\n",
       "    <tr style=\"text-align: right;\">\n",
       "      <th></th>\n",
       "      <th>0</th>\n",
       "      <th>1</th>\n",
       "      <th>2</th>\n",
       "      <th>3</th>\n",
       "    </tr>\n",
       "  </thead>\n",
       "  <tbody>\n",
       "    <tr>\n",
       "      <th>0</th>\n",
       "      <td>-0.726824</td>\n",
       "      <td>-0.508471</td>\n",
       "      <td>-0.147426</td>\n",
       "      <td>0.844640</td>\n",
       "    </tr>\n",
       "    <tr>\n",
       "      <th>1</th>\n",
       "      <td>-1.130980</td>\n",
       "      <td>-1.974908</td>\n",
       "      <td>0.897623</td>\n",
       "      <td>0.902611</td>\n",
       "    </tr>\n",
       "    <tr>\n",
       "      <th>2</th>\n",
       "      <td>0.618595</td>\n",
       "      <td>-1.945991</td>\n",
       "      <td>0.820329</td>\n",
       "      <td>-0.910979</td>\n",
       "    </tr>\n",
       "    <tr>\n",
       "      <th>3</th>\n",
       "      <td>-0.774346</td>\n",
       "      <td>-0.925586</td>\n",
       "      <td>1.999844</td>\n",
       "      <td>-1.578858</td>\n",
       "    </tr>\n",
       "    <tr>\n",
       "      <th>4</th>\n",
       "      <td>-0.578087</td>\n",
       "      <td>0.234395</td>\n",
       "      <td>1.210943</td>\n",
       "      <td>0.442198</td>\n",
       "    </tr>\n",
       "    <tr>\n",
       "      <th>5</th>\n",
       "      <td>1.249943</td>\n",
       "      <td>0.469273</td>\n",
       "      <td>-3.545735</td>\n",
       "      <td>0.602416</td>\n",
       "    </tr>\n",
       "    <tr>\n",
       "      <th>6</th>\n",
       "      <td>-1.365915</td>\n",
       "      <td>-0.801405</td>\n",
       "      <td>-0.362440</td>\n",
       "      <td>0.872419</td>\n",
       "    </tr>\n",
       "    <tr>\n",
       "      <th>7</th>\n",
       "      <td>0.223713</td>\n",
       "      <td>-1.219781</td>\n",
       "      <td>-1.195082</td>\n",
       "      <td>-0.132043</td>\n",
       "    </tr>\n",
       "    <tr>\n",
       "      <th>8</th>\n",
       "      <td>-0.394235</td>\n",
       "      <td>1.230256</td>\n",
       "      <td>0.011556</td>\n",
       "      <td>-0.975836</td>\n",
       "    </tr>\n",
       "    <tr>\n",
       "      <th>9</th>\n",
       "      <td>-1.437452</td>\n",
       "      <td>0.482737</td>\n",
       "      <td>1.321766</td>\n",
       "      <td>-0.167353</td>\n",
       "    </tr>\n",
       "  </tbody>\n",
       "</table>\n",
       "</div>"
      ],
      "text/plain": [
       "          0         1         2         3\n",
       "0 -0.726824 -0.508471 -0.147426  0.844640\n",
       "1 -1.130980 -1.974908  0.897623  0.902611\n",
       "2  0.618595 -1.945991  0.820329 -0.910979\n",
       "3 -0.774346 -0.925586  1.999844 -1.578858\n",
       "4 -0.578087  0.234395  1.210943  0.442198\n",
       "5  1.249943  0.469273 -3.545735  0.602416\n",
       "6 -1.365915 -0.801405 -0.362440  0.872419\n",
       "7  0.223713 -1.219781 -1.195082 -0.132043\n",
       "8 -0.394235  1.230256  0.011556 -0.975836\n",
       "9 -1.437452  0.482737  1.321766 -0.167353"
      ]
     },
     "execution_count": 78,
     "metadata": {},
     "output_type": "execute_result"
    }
   ],
   "source": [
    "pd.concat(df2)"
   ]
  },
  {
   "cell_type": "code",
   "execution_count": 79,
   "id": "ce46898a",
   "metadata": {},
   "outputs": [],
   "source": [
    "left = pd.DataFrame({'A': [1,2],\n",
    "                     'B': [3,4]\n",
    "                    })"
   ]
  },
  {
   "cell_type": "code",
   "execution_count": 80,
   "id": "5d06abdc",
   "metadata": {},
   "outputs": [
    {
     "data": {
      "text/html": [
       "<div>\n",
       "<style scoped>\n",
       "    .dataframe tbody tr th:only-of-type {\n",
       "        vertical-align: middle;\n",
       "    }\n",
       "\n",
       "    .dataframe tbody tr th {\n",
       "        vertical-align: top;\n",
       "    }\n",
       "\n",
       "    .dataframe thead th {\n",
       "        text-align: right;\n",
       "    }\n",
       "</style>\n",
       "<table border=\"1\" class=\"dataframe\">\n",
       "  <thead>\n",
       "    <tr style=\"text-align: right;\">\n",
       "      <th></th>\n",
       "      <th>A</th>\n",
       "      <th>B</th>\n",
       "    </tr>\n",
       "  </thead>\n",
       "  <tbody>\n",
       "    <tr>\n",
       "      <th>0</th>\n",
       "      <td>1</td>\n",
       "      <td>3</td>\n",
       "    </tr>\n",
       "    <tr>\n",
       "      <th>1</th>\n",
       "      <td>2</td>\n",
       "      <td>4</td>\n",
       "    </tr>\n",
       "  </tbody>\n",
       "</table>\n",
       "</div>"
      ],
      "text/plain": [
       "   A  B\n",
       "0  1  3\n",
       "1  2  4"
      ]
     },
     "execution_count": 80,
     "metadata": {},
     "output_type": "execute_result"
    }
   ],
   "source": [
    "left"
   ]
  },
  {
   "cell_type": "code",
   "execution_count": 81,
   "id": "1514c49e",
   "metadata": {},
   "outputs": [],
   "source": [
    "right = pd.DataFrame({\n",
    "    'A': [1,2],\n",
    "    'D': [5,6]\n",
    "})"
   ]
  },
  {
   "cell_type": "code",
   "execution_count": 82,
   "id": "b43ac298",
   "metadata": {},
   "outputs": [
    {
     "data": {
      "text/html": [
       "<div>\n",
       "<style scoped>\n",
       "    .dataframe tbody tr th:only-of-type {\n",
       "        vertical-align: middle;\n",
       "    }\n",
       "\n",
       "    .dataframe tbody tr th {\n",
       "        vertical-align: top;\n",
       "    }\n",
       "\n",
       "    .dataframe thead th {\n",
       "        text-align: right;\n",
       "    }\n",
       "</style>\n",
       "<table border=\"1\" class=\"dataframe\">\n",
       "  <thead>\n",
       "    <tr style=\"text-align: right;\">\n",
       "      <th></th>\n",
       "      <th>A</th>\n",
       "      <th>D</th>\n",
       "    </tr>\n",
       "  </thead>\n",
       "  <tbody>\n",
       "    <tr>\n",
       "      <th>0</th>\n",
       "      <td>1</td>\n",
       "      <td>5</td>\n",
       "    </tr>\n",
       "    <tr>\n",
       "      <th>1</th>\n",
       "      <td>2</td>\n",
       "      <td>6</td>\n",
       "    </tr>\n",
       "  </tbody>\n",
       "</table>\n",
       "</div>"
      ],
      "text/plain": [
       "   A  D\n",
       "0  1  5\n",
       "1  2  6"
      ]
     },
     "execution_count": 82,
     "metadata": {},
     "output_type": "execute_result"
    }
   ],
   "source": [
    "right"
   ]
  },
  {
   "cell_type": "code",
   "execution_count": 83,
   "id": "35072758",
   "metadata": {},
   "outputs": [
    {
     "data": {
      "text/html": [
       "<div>\n",
       "<style scoped>\n",
       "    .dataframe tbody tr th:only-of-type {\n",
       "        vertical-align: middle;\n",
       "    }\n",
       "\n",
       "    .dataframe tbody tr th {\n",
       "        vertical-align: top;\n",
       "    }\n",
       "\n",
       "    .dataframe thead th {\n",
       "        text-align: right;\n",
       "    }\n",
       "</style>\n",
       "<table border=\"1\" class=\"dataframe\">\n",
       "  <thead>\n",
       "    <tr style=\"text-align: right;\">\n",
       "      <th></th>\n",
       "      <th>A</th>\n",
       "      <th>B</th>\n",
       "      <th>D</th>\n",
       "    </tr>\n",
       "  </thead>\n",
       "  <tbody>\n",
       "    <tr>\n",
       "      <th>0</th>\n",
       "      <td>1</td>\n",
       "      <td>3</td>\n",
       "      <td>5</td>\n",
       "    </tr>\n",
       "    <tr>\n",
       "      <th>1</th>\n",
       "      <td>2</td>\n",
       "      <td>4</td>\n",
       "      <td>6</td>\n",
       "    </tr>\n",
       "  </tbody>\n",
       "</table>\n",
       "</div>"
      ],
      "text/plain": [
       "   A  B  D\n",
       "0  1  3  5\n",
       "1  2  4  6"
      ]
     },
     "execution_count": 83,
     "metadata": {},
     "output_type": "execute_result"
    }
   ],
   "source": [
    "pd.merge(left,right,on = 'A')"
   ]
  },
  {
   "cell_type": "code",
   "execution_count": 84,
   "id": "8e1de293",
   "metadata": {},
   "outputs": [
    {
     "data": {
      "text/html": [
       "<div>\n",
       "<style scoped>\n",
       "    .dataframe tbody tr th:only-of-type {\n",
       "        vertical-align: middle;\n",
       "    }\n",
       "\n",
       "    .dataframe tbody tr th {\n",
       "        vertical-align: top;\n",
       "    }\n",
       "\n",
       "    .dataframe thead th {\n",
       "        text-align: right;\n",
       "    }\n",
       "</style>\n",
       "<table border=\"1\" class=\"dataframe\">\n",
       "  <thead>\n",
       "    <tr style=\"text-align: right;\">\n",
       "      <th></th>\n",
       "      <th></th>\n",
       "      <th>0</th>\n",
       "      <th>1</th>\n",
       "    </tr>\n",
       "    <tr>\n",
       "      <th>2</th>\n",
       "      <th>3</th>\n",
       "      <th></th>\n",
       "      <th></th>\n",
       "    </tr>\n",
       "  </thead>\n",
       "  <tbody>\n",
       "    <tr>\n",
       "      <th>-3.545735</th>\n",
       "      <th>0.602416</th>\n",
       "      <td>1.249943</td>\n",
       "      <td>0.469273</td>\n",
       "    </tr>\n",
       "    <tr>\n",
       "      <th>-1.195082</th>\n",
       "      <th>-0.132043</th>\n",
       "      <td>0.223713</td>\n",
       "      <td>-1.219781</td>\n",
       "    </tr>\n",
       "    <tr>\n",
       "      <th>-0.362440</th>\n",
       "      <th>0.872419</th>\n",
       "      <td>-1.365915</td>\n",
       "      <td>-0.801405</td>\n",
       "    </tr>\n",
       "    <tr>\n",
       "      <th>-0.147426</th>\n",
       "      <th>0.844640</th>\n",
       "      <td>-0.726824</td>\n",
       "      <td>-0.508471</td>\n",
       "    </tr>\n",
       "    <tr>\n",
       "      <th>0.011556</th>\n",
       "      <th>-0.975836</th>\n",
       "      <td>-0.394235</td>\n",
       "      <td>1.230256</td>\n",
       "    </tr>\n",
       "    <tr>\n",
       "      <th>0.820329</th>\n",
       "      <th>-0.910979</th>\n",
       "      <td>0.618595</td>\n",
       "      <td>-1.945991</td>\n",
       "    </tr>\n",
       "    <tr>\n",
       "      <th>0.897623</th>\n",
       "      <th>0.902611</th>\n",
       "      <td>-1.130980</td>\n",
       "      <td>-1.974908</td>\n",
       "    </tr>\n",
       "    <tr>\n",
       "      <th>1.210943</th>\n",
       "      <th>0.442198</th>\n",
       "      <td>-0.578087</td>\n",
       "      <td>0.234395</td>\n",
       "    </tr>\n",
       "    <tr>\n",
       "      <th>1.321766</th>\n",
       "      <th>-0.167353</th>\n",
       "      <td>-1.437452</td>\n",
       "      <td>0.482737</td>\n",
       "    </tr>\n",
       "    <tr>\n",
       "      <th>1.999844</th>\n",
       "      <th>-1.578858</th>\n",
       "      <td>-0.774346</td>\n",
       "      <td>-0.925586</td>\n",
       "    </tr>\n",
       "  </tbody>\n",
       "</table>\n",
       "</div>"
      ],
      "text/plain": [
       "                            0         1\n",
       "2         3                            \n",
       "-3.545735  0.602416  1.249943  0.469273\n",
       "-1.195082 -0.132043  0.223713 -1.219781\n",
       "-0.362440  0.872419 -1.365915 -0.801405\n",
       "-0.147426  0.844640 -0.726824 -0.508471\n",
       " 0.011556 -0.975836 -0.394235  1.230256\n",
       " 0.820329 -0.910979  0.618595 -1.945991\n",
       " 0.897623  0.902611 -1.130980 -1.974908\n",
       " 1.210943  0.442198 -0.578087  0.234395\n",
       " 1.321766 -0.167353 -1.437452  0.482737\n",
       " 1.999844 -1.578858 -0.774346 -0.925586"
      ]
     },
     "execution_count": 84,
     "metadata": {},
     "output_type": "execute_result"
    }
   ],
   "source": [
    "df.groupby([2,3]).sum()"
   ]
  },
  {
   "cell_type": "code",
   "execution_count": 85,
   "id": "b9086b41",
   "metadata": {},
   "outputs": [],
   "source": [
    "# stack function is used to stack the prescribed labels from columns to index\n",
    "my_tuple = list(zip(*[[1,2,3,4,5,17,18,19], [11,12,13,6,7,9,9,10]]))"
   ]
  },
  {
   "cell_type": "code",
   "execution_count": 86,
   "id": "f7bbe17e",
   "metadata": {},
   "outputs": [
    {
     "data": {
      "text/plain": [
       "[(1, 11), (2, 12), (3, 13), (4, 6), (5, 7), (17, 9), (18, 9), (19, 10)]"
      ]
     },
     "execution_count": 86,
     "metadata": {},
     "output_type": "execute_result"
    }
   ],
   "source": [
    "my_tuple"
   ]
  },
  {
   "cell_type": "code",
   "execution_count": 87,
   "id": "c93aa500",
   "metadata": {},
   "outputs": [],
   "source": [
    "index = pd.MultiIndex.from_tuples(my_tuple, names = ['First','Second'])"
   ]
  },
  {
   "cell_type": "code",
   "execution_count": 88,
   "id": "85e60fa5",
   "metadata": {},
   "outputs": [],
   "source": [
    "df = pd.DataFrame(np.random.randn(8,2), index = index, columns = ['A','B'])"
   ]
  },
  {
   "cell_type": "code",
   "execution_count": 89,
   "id": "542f3224",
   "metadata": {},
   "outputs": [],
   "source": [
    "df2 = df[:4]"
   ]
  },
  {
   "cell_type": "code",
   "execution_count": 90,
   "id": "643ce97d",
   "metadata": {},
   "outputs": [
    {
     "data": {
      "text/html": [
       "<div>\n",
       "<style scoped>\n",
       "    .dataframe tbody tr th:only-of-type {\n",
       "        vertical-align: middle;\n",
       "    }\n",
       "\n",
       "    .dataframe tbody tr th {\n",
       "        vertical-align: top;\n",
       "    }\n",
       "\n",
       "    .dataframe thead th {\n",
       "        text-align: right;\n",
       "    }\n",
       "</style>\n",
       "<table border=\"1\" class=\"dataframe\">\n",
       "  <thead>\n",
       "    <tr style=\"text-align: right;\">\n",
       "      <th></th>\n",
       "      <th></th>\n",
       "      <th>A</th>\n",
       "      <th>B</th>\n",
       "    </tr>\n",
       "    <tr>\n",
       "      <th>First</th>\n",
       "      <th>Second</th>\n",
       "      <th></th>\n",
       "      <th></th>\n",
       "    </tr>\n",
       "  </thead>\n",
       "  <tbody>\n",
       "    <tr>\n",
       "      <th>1</th>\n",
       "      <th>11</th>\n",
       "      <td>0.349656</td>\n",
       "      <td>-0.563524</td>\n",
       "    </tr>\n",
       "    <tr>\n",
       "      <th>2</th>\n",
       "      <th>12</th>\n",
       "      <td>-0.174859</td>\n",
       "      <td>0.217955</td>\n",
       "    </tr>\n",
       "    <tr>\n",
       "      <th>3</th>\n",
       "      <th>13</th>\n",
       "      <td>-0.503346</td>\n",
       "      <td>-0.716153</td>\n",
       "    </tr>\n",
       "    <tr>\n",
       "      <th>4</th>\n",
       "      <th>6</th>\n",
       "      <td>-1.157870</td>\n",
       "      <td>-0.433451</td>\n",
       "    </tr>\n",
       "  </tbody>\n",
       "</table>\n",
       "</div>"
      ],
      "text/plain": [
       "                     A         B\n",
       "First Second                    \n",
       "1     11      0.349656 -0.563524\n",
       "2     12     -0.174859  0.217955\n",
       "3     13     -0.503346 -0.716153\n",
       "4     6      -1.157870 -0.433451"
      ]
     },
     "execution_count": 90,
     "metadata": {},
     "output_type": "execute_result"
    }
   ],
   "source": [
    "df2"
   ]
  },
  {
   "cell_type": "code",
   "execution_count": 91,
   "id": "f4265209",
   "metadata": {},
   "outputs": [],
   "source": [
    "a = df2.stack()"
   ]
  },
  {
   "cell_type": "code",
   "execution_count": 92,
   "id": "d135a39d",
   "metadata": {},
   "outputs": [
    {
     "data": {
      "text/html": [
       "<div>\n",
       "<style scoped>\n",
       "    .dataframe tbody tr th:only-of-type {\n",
       "        vertical-align: middle;\n",
       "    }\n",
       "\n",
       "    .dataframe tbody tr th {\n",
       "        vertical-align: top;\n",
       "    }\n",
       "\n",
       "    .dataframe thead th {\n",
       "        text-align: right;\n",
       "    }\n",
       "</style>\n",
       "<table border=\"1\" class=\"dataframe\">\n",
       "  <thead>\n",
       "    <tr style=\"text-align: right;\">\n",
       "      <th></th>\n",
       "      <th></th>\n",
       "      <th>A</th>\n",
       "      <th>B</th>\n",
       "    </tr>\n",
       "    <tr>\n",
       "      <th>First</th>\n",
       "      <th>Second</th>\n",
       "      <th></th>\n",
       "      <th></th>\n",
       "    </tr>\n",
       "  </thead>\n",
       "  <tbody>\n",
       "    <tr>\n",
       "      <th>1</th>\n",
       "      <th>11</th>\n",
       "      <td>0.349656</td>\n",
       "      <td>-0.563524</td>\n",
       "    </tr>\n",
       "    <tr>\n",
       "      <th>2</th>\n",
       "      <th>12</th>\n",
       "      <td>-0.174859</td>\n",
       "      <td>0.217955</td>\n",
       "    </tr>\n",
       "    <tr>\n",
       "      <th>3</th>\n",
       "      <th>13</th>\n",
       "      <td>-0.503346</td>\n",
       "      <td>-0.716153</td>\n",
       "    </tr>\n",
       "    <tr>\n",
       "      <th>4</th>\n",
       "      <th>6</th>\n",
       "      <td>-1.157870</td>\n",
       "      <td>-0.433451</td>\n",
       "    </tr>\n",
       "  </tbody>\n",
       "</table>\n",
       "</div>"
      ],
      "text/plain": [
       "                     A         B\n",
       "First Second                    \n",
       "1     11      0.349656 -0.563524\n",
       "2     12     -0.174859  0.217955\n",
       "3     13     -0.503346 -0.716153\n",
       "4     6      -1.157870 -0.433451"
      ]
     },
     "execution_count": 92,
     "metadata": {},
     "output_type": "execute_result"
    }
   ],
   "source": [
    "a.unstack()"
   ]
  },
  {
   "cell_type": "code",
   "execution_count": 93,
   "id": "9ee8d452",
   "metadata": {},
   "outputs": [],
   "source": [
    "df = pd.DataFrame({'A': ['a','b','c','d'] * 3,\n",
    "                   'B': ['A','B','C'] * 4,\n",
    "                   'C': ['P','P','P','Q','Q','Q'] *2,\n",
    "                   'D': np.random.randn(12),\n",
    "                   'E': np.random.randn(12)\n",
    "                  })"
   ]
  },
  {
   "cell_type": "code",
   "execution_count": 94,
   "id": "fc97cdcd",
   "metadata": {},
   "outputs": [
    {
     "data": {
      "text/html": [
       "<div>\n",
       "<style scoped>\n",
       "    .dataframe tbody tr th:only-of-type {\n",
       "        vertical-align: middle;\n",
       "    }\n",
       "\n",
       "    .dataframe tbody tr th {\n",
       "        vertical-align: top;\n",
       "    }\n",
       "\n",
       "    .dataframe thead th {\n",
       "        text-align: right;\n",
       "    }\n",
       "</style>\n",
       "<table border=\"1\" class=\"dataframe\">\n",
       "  <thead>\n",
       "    <tr style=\"text-align: right;\">\n",
       "      <th></th>\n",
       "      <th>A</th>\n",
       "      <th>B</th>\n",
       "      <th>C</th>\n",
       "      <th>D</th>\n",
       "      <th>E</th>\n",
       "    </tr>\n",
       "  </thead>\n",
       "  <tbody>\n",
       "    <tr>\n",
       "      <th>0</th>\n",
       "      <td>a</td>\n",
       "      <td>A</td>\n",
       "      <td>P</td>\n",
       "      <td>-0.421152</td>\n",
       "      <td>-1.915459</td>\n",
       "    </tr>\n",
       "    <tr>\n",
       "      <th>1</th>\n",
       "      <td>b</td>\n",
       "      <td>B</td>\n",
       "      <td>P</td>\n",
       "      <td>-1.211462</td>\n",
       "      <td>-0.639130</td>\n",
       "    </tr>\n",
       "    <tr>\n",
       "      <th>2</th>\n",
       "      <td>c</td>\n",
       "      <td>C</td>\n",
       "      <td>P</td>\n",
       "      <td>-0.830413</td>\n",
       "      <td>0.293602</td>\n",
       "    </tr>\n",
       "    <tr>\n",
       "      <th>3</th>\n",
       "      <td>d</td>\n",
       "      <td>A</td>\n",
       "      <td>Q</td>\n",
       "      <td>-0.272242</td>\n",
       "      <td>0.816593</td>\n",
       "    </tr>\n",
       "    <tr>\n",
       "      <th>4</th>\n",
       "      <td>a</td>\n",
       "      <td>B</td>\n",
       "      <td>Q</td>\n",
       "      <td>-0.243825</td>\n",
       "      <td>0.599339</td>\n",
       "    </tr>\n",
       "    <tr>\n",
       "      <th>5</th>\n",
       "      <td>b</td>\n",
       "      <td>C</td>\n",
       "      <td>Q</td>\n",
       "      <td>-1.895083</td>\n",
       "      <td>0.010745</td>\n",
       "    </tr>\n",
       "    <tr>\n",
       "      <th>6</th>\n",
       "      <td>c</td>\n",
       "      <td>A</td>\n",
       "      <td>P</td>\n",
       "      <td>0.833782</td>\n",
       "      <td>-0.279994</td>\n",
       "    </tr>\n",
       "    <tr>\n",
       "      <th>7</th>\n",
       "      <td>d</td>\n",
       "      <td>B</td>\n",
       "      <td>P</td>\n",
       "      <td>-0.398843</td>\n",
       "      <td>1.732098</td>\n",
       "    </tr>\n",
       "    <tr>\n",
       "      <th>8</th>\n",
       "      <td>a</td>\n",
       "      <td>C</td>\n",
       "      <td>P</td>\n",
       "      <td>-0.698194</td>\n",
       "      <td>0.060775</td>\n",
       "    </tr>\n",
       "    <tr>\n",
       "      <th>9</th>\n",
       "      <td>b</td>\n",
       "      <td>A</td>\n",
       "      <td>Q</td>\n",
       "      <td>1.504228</td>\n",
       "      <td>-1.253978</td>\n",
       "    </tr>\n",
       "    <tr>\n",
       "      <th>10</th>\n",
       "      <td>c</td>\n",
       "      <td>B</td>\n",
       "      <td>Q</td>\n",
       "      <td>-1.353430</td>\n",
       "      <td>1.123286</td>\n",
       "    </tr>\n",
       "    <tr>\n",
       "      <th>11</th>\n",
       "      <td>d</td>\n",
       "      <td>C</td>\n",
       "      <td>Q</td>\n",
       "      <td>1.062278</td>\n",
       "      <td>-1.567301</td>\n",
       "    </tr>\n",
       "  </tbody>\n",
       "</table>\n",
       "</div>"
      ],
      "text/plain": [
       "    A  B  C         D         E\n",
       "0   a  A  P -0.421152 -1.915459\n",
       "1   b  B  P -1.211462 -0.639130\n",
       "2   c  C  P -0.830413  0.293602\n",
       "3   d  A  Q -0.272242  0.816593\n",
       "4   a  B  Q -0.243825  0.599339\n",
       "5   b  C  Q -1.895083  0.010745\n",
       "6   c  A  P  0.833782 -0.279994\n",
       "7   d  B  P -0.398843  1.732098\n",
       "8   a  C  P -0.698194  0.060775\n",
       "9   b  A  Q  1.504228 -1.253978\n",
       "10  c  B  Q -1.353430  1.123286\n",
       "11  d  C  Q  1.062278 -1.567301"
      ]
     },
     "execution_count": 94,
     "metadata": {},
     "output_type": "execute_result"
    }
   ],
   "source": [
    "df"
   ]
  },
  {
   "cell_type": "code",
   "execution_count": 95,
   "id": "eb264d30",
   "metadata": {},
   "outputs": [
    {
     "data": {
      "text/html": [
       "<div>\n",
       "<style scoped>\n",
       "    .dataframe tbody tr th:only-of-type {\n",
       "        vertical-align: middle;\n",
       "    }\n",
       "\n",
       "    .dataframe tbody tr th {\n",
       "        vertical-align: top;\n",
       "    }\n",
       "\n",
       "    .dataframe thead th {\n",
       "        text-align: right;\n",
       "    }\n",
       "</style>\n",
       "<table border=\"1\" class=\"dataframe\">\n",
       "  <thead>\n",
       "    <tr style=\"text-align: right;\">\n",
       "      <th></th>\n",
       "      <th>C</th>\n",
       "      <th>P</th>\n",
       "      <th>Q</th>\n",
       "    </tr>\n",
       "    <tr>\n",
       "      <th>A</th>\n",
       "      <th>B</th>\n",
       "      <th></th>\n",
       "      <th></th>\n",
       "    </tr>\n",
       "  </thead>\n",
       "  <tbody>\n",
       "    <tr>\n",
       "      <th rowspan=\"3\" valign=\"top\">a</th>\n",
       "      <th>A</th>\n",
       "      <td>-0.421152</td>\n",
       "      <td>NaN</td>\n",
       "    </tr>\n",
       "    <tr>\n",
       "      <th>B</th>\n",
       "      <td>NaN</td>\n",
       "      <td>-0.243825</td>\n",
       "    </tr>\n",
       "    <tr>\n",
       "      <th>C</th>\n",
       "      <td>-0.698194</td>\n",
       "      <td>NaN</td>\n",
       "    </tr>\n",
       "    <tr>\n",
       "      <th rowspan=\"3\" valign=\"top\">b</th>\n",
       "      <th>A</th>\n",
       "      <td>NaN</td>\n",
       "      <td>1.504228</td>\n",
       "    </tr>\n",
       "    <tr>\n",
       "      <th>B</th>\n",
       "      <td>-1.211462</td>\n",
       "      <td>NaN</td>\n",
       "    </tr>\n",
       "    <tr>\n",
       "      <th>C</th>\n",
       "      <td>NaN</td>\n",
       "      <td>-1.895083</td>\n",
       "    </tr>\n",
       "    <tr>\n",
       "      <th rowspan=\"3\" valign=\"top\">c</th>\n",
       "      <th>A</th>\n",
       "      <td>0.833782</td>\n",
       "      <td>NaN</td>\n",
       "    </tr>\n",
       "    <tr>\n",
       "      <th>B</th>\n",
       "      <td>NaN</td>\n",
       "      <td>-1.353430</td>\n",
       "    </tr>\n",
       "    <tr>\n",
       "      <th>C</th>\n",
       "      <td>-0.830413</td>\n",
       "      <td>NaN</td>\n",
       "    </tr>\n",
       "    <tr>\n",
       "      <th rowspan=\"3\" valign=\"top\">d</th>\n",
       "      <th>A</th>\n",
       "      <td>NaN</td>\n",
       "      <td>-0.272242</td>\n",
       "    </tr>\n",
       "    <tr>\n",
       "      <th>B</th>\n",
       "      <td>-0.398843</td>\n",
       "      <td>NaN</td>\n",
       "    </tr>\n",
       "    <tr>\n",
       "      <th>C</th>\n",
       "      <td>NaN</td>\n",
       "      <td>1.062278</td>\n",
       "    </tr>\n",
       "  </tbody>\n",
       "</table>\n",
       "</div>"
      ],
      "text/plain": [
       "C           P         Q\n",
       "A B                    \n",
       "a A -0.421152       NaN\n",
       "  B       NaN -0.243825\n",
       "  C -0.698194       NaN\n",
       "b A       NaN  1.504228\n",
       "  B -1.211462       NaN\n",
       "  C       NaN -1.895083\n",
       "c A  0.833782       NaN\n",
       "  B       NaN -1.353430\n",
       "  C -0.830413       NaN\n",
       "d A       NaN -0.272242\n",
       "  B -0.398843       NaN\n",
       "  C       NaN  1.062278"
      ]
     },
     "execution_count": 95,
     "metadata": {},
     "output_type": "execute_result"
    }
   ],
   "source": [
    "pd.pivot_table(df, values = 'D', index = ['A','B'], columns = 'C')"
   ]
  },
  {
   "cell_type": "markdown",
   "id": "a17a9b2c",
   "metadata": {},
   "source": [
    "## Creating Time Series"
   ]
  },
  {
   "cell_type": "code",
   "execution_count": 96,
   "id": "a74e4649",
   "metadata": {},
   "outputs": [],
   "source": [
    "dates = pd.date_range('3/3/2020', periods = 100, freq = 'S')"
   ]
  },
  {
   "cell_type": "code",
   "execution_count": 97,
   "id": "e981a7d0",
   "metadata": {
    "scrolled": true
   },
   "outputs": [
    {
     "data": {
      "text/plain": [
       "DatetimeIndex(['2020-03-03 00:00:00', '2020-03-03 00:00:01',\n",
       "               '2020-03-03 00:00:02', '2020-03-03 00:00:03',\n",
       "               '2020-03-03 00:00:04', '2020-03-03 00:00:05',\n",
       "               '2020-03-03 00:00:06', '2020-03-03 00:00:07',\n",
       "               '2020-03-03 00:00:08', '2020-03-03 00:00:09',\n",
       "               '2020-03-03 00:00:10', '2020-03-03 00:00:11',\n",
       "               '2020-03-03 00:00:12', '2020-03-03 00:00:13',\n",
       "               '2020-03-03 00:00:14', '2020-03-03 00:00:15',\n",
       "               '2020-03-03 00:00:16', '2020-03-03 00:00:17',\n",
       "               '2020-03-03 00:00:18', '2020-03-03 00:00:19',\n",
       "               '2020-03-03 00:00:20', '2020-03-03 00:00:21',\n",
       "               '2020-03-03 00:00:22', '2020-03-03 00:00:23',\n",
       "               '2020-03-03 00:00:24', '2020-03-03 00:00:25',\n",
       "               '2020-03-03 00:00:26', '2020-03-03 00:00:27',\n",
       "               '2020-03-03 00:00:28', '2020-03-03 00:00:29',\n",
       "               '2020-03-03 00:00:30', '2020-03-03 00:00:31',\n",
       "               '2020-03-03 00:00:32', '2020-03-03 00:00:33',\n",
       "               '2020-03-03 00:00:34', '2020-03-03 00:00:35',\n",
       "               '2020-03-03 00:00:36', '2020-03-03 00:00:37',\n",
       "               '2020-03-03 00:00:38', '2020-03-03 00:00:39',\n",
       "               '2020-03-03 00:00:40', '2020-03-03 00:00:41',\n",
       "               '2020-03-03 00:00:42', '2020-03-03 00:00:43',\n",
       "               '2020-03-03 00:00:44', '2020-03-03 00:00:45',\n",
       "               '2020-03-03 00:00:46', '2020-03-03 00:00:47',\n",
       "               '2020-03-03 00:00:48', '2020-03-03 00:00:49',\n",
       "               '2020-03-03 00:00:50', '2020-03-03 00:00:51',\n",
       "               '2020-03-03 00:00:52', '2020-03-03 00:00:53',\n",
       "               '2020-03-03 00:00:54', '2020-03-03 00:00:55',\n",
       "               '2020-03-03 00:00:56', '2020-03-03 00:00:57',\n",
       "               '2020-03-03 00:00:58', '2020-03-03 00:00:59',\n",
       "               '2020-03-03 00:01:00', '2020-03-03 00:01:01',\n",
       "               '2020-03-03 00:01:02', '2020-03-03 00:01:03',\n",
       "               '2020-03-03 00:01:04', '2020-03-03 00:01:05',\n",
       "               '2020-03-03 00:01:06', '2020-03-03 00:01:07',\n",
       "               '2020-03-03 00:01:08', '2020-03-03 00:01:09',\n",
       "               '2020-03-03 00:01:10', '2020-03-03 00:01:11',\n",
       "               '2020-03-03 00:01:12', '2020-03-03 00:01:13',\n",
       "               '2020-03-03 00:01:14', '2020-03-03 00:01:15',\n",
       "               '2020-03-03 00:01:16', '2020-03-03 00:01:17',\n",
       "               '2020-03-03 00:01:18', '2020-03-03 00:01:19',\n",
       "               '2020-03-03 00:01:20', '2020-03-03 00:01:21',\n",
       "               '2020-03-03 00:01:22', '2020-03-03 00:01:23',\n",
       "               '2020-03-03 00:01:24', '2020-03-03 00:01:25',\n",
       "               '2020-03-03 00:01:26', '2020-03-03 00:01:27',\n",
       "               '2020-03-03 00:01:28', '2020-03-03 00:01:29',\n",
       "               '2020-03-03 00:01:30', '2020-03-03 00:01:31',\n",
       "               '2020-03-03 00:01:32', '2020-03-03 00:01:33',\n",
       "               '2020-03-03 00:01:34', '2020-03-03 00:01:35',\n",
       "               '2020-03-03 00:01:36', '2020-03-03 00:01:37',\n",
       "               '2020-03-03 00:01:38', '2020-03-03 00:01:39'],\n",
       "              dtype='datetime64[ns]', freq='S')"
      ]
     },
     "execution_count": 97,
     "metadata": {},
     "output_type": "execute_result"
    }
   ],
   "source": [
    "dates"
   ]
  },
  {
   "cell_type": "code",
   "execution_count": 98,
   "id": "a367d463",
   "metadata": {},
   "outputs": [],
   "source": [
    "ts = pd.Series(np.random.randint(0,500,len(dates)), dates)"
   ]
  },
  {
   "cell_type": "code",
   "execution_count": 99,
   "id": "f849e578",
   "metadata": {},
   "outputs": [
    {
     "data": {
      "text/plain": [
       "2020-03-03    25098\n",
       "Freq: 5T, dtype: int64"
      ]
     },
     "execution_count": 99,
     "metadata": {},
     "output_type": "execute_result"
    }
   ],
   "source": [
    "ts.resample('5min').sum()"
   ]
  },
  {
   "cell_type": "code",
   "execution_count": 100,
   "id": "1971c393",
   "metadata": {},
   "outputs": [],
   "source": [
    "dates = pd.date_range('3/3/2020 00:00', periods = 5, freq = 'S')"
   ]
  },
  {
   "cell_type": "code",
   "execution_count": 101,
   "id": "593315b3",
   "metadata": {},
   "outputs": [],
   "source": [
    "ts = pd.Series(np.random.randn(len(dates)),dates)"
   ]
  },
  {
   "cell_type": "code",
   "execution_count": 102,
   "id": "f07705af",
   "metadata": {},
   "outputs": [
    {
     "data": {
      "text/plain": [
       "2020-03-03 00:00:00    0.190109\n",
       "2020-03-03 00:00:01   -0.880677\n",
       "2020-03-03 00:00:02   -0.601670\n",
       "2020-03-03 00:00:03    0.542889\n",
       "2020-03-03 00:00:04   -3.065898\n",
       "Freq: S, dtype: float64"
      ]
     },
     "execution_count": 102,
     "metadata": {},
     "output_type": "execute_result"
    }
   ],
   "source": [
    "# showing timezone\n",
    "ts"
   ]
  },
  {
   "cell_type": "code",
   "execution_count": 103,
   "id": "7cce8a57",
   "metadata": {},
   "outputs": [],
   "source": [
    "# showing time zone\n",
    "ts_utc = ts.tz_localize('UTC')"
   ]
  },
  {
   "cell_type": "code",
   "execution_count": 104,
   "id": "ba9cd1d1",
   "metadata": {},
   "outputs": [
    {
     "data": {
      "text/plain": [
       "2020-03-03 00:00:00+00:00    0.190109\n",
       "2020-03-03 00:00:01+00:00   -0.880677\n",
       "2020-03-03 00:00:02+00:00   -0.601670\n",
       "2020-03-03 00:00:03+00:00    0.542889\n",
       "2020-03-03 00:00:04+00:00   -3.065898\n",
       "Freq: S, dtype: float64"
      ]
     },
     "execution_count": 104,
     "metadata": {},
     "output_type": "execute_result"
    }
   ],
   "source": [
    "ts_utc"
   ]
  },
  {
   "cell_type": "code",
   "execution_count": 105,
   "id": "18a842b5",
   "metadata": {},
   "outputs": [
    {
     "data": {
      "text/plain": [
       "2020-03-02 19:00:00-05:00    0.190109\n",
       "2020-03-02 19:00:01-05:00   -0.880677\n",
       "2020-03-02 19:00:02-05:00   -0.601670\n",
       "2020-03-02 19:00:03-05:00    0.542889\n",
       "2020-03-02 19:00:04-05:00   -3.065898\n",
       "Freq: S, dtype: float64"
      ]
     },
     "execution_count": 105,
     "metadata": {},
     "output_type": "execute_result"
    }
   ],
   "source": [
    "ts_utc.tz_convert('US/Eastern')"
   ]
  },
  {
   "cell_type": "markdown",
   "id": "9a113ad0",
   "metadata": {},
   "source": [
    "## Categorical"
   ]
  },
  {
   "cell_type": "code",
   "execution_count": 106,
   "id": "89d74833",
   "metadata": {},
   "outputs": [],
   "source": [
    "df = pd.DataFrame({\n",
    "    'ID': [1,2,3,4,5,6],\n",
    "    \"grade\": ['a','b','c','d','e','f']\n",
    "})"
   ]
  },
  {
   "cell_type": "code",
   "execution_count": 107,
   "id": "2f33f700",
   "metadata": {},
   "outputs": [
    {
     "data": {
      "text/html": [
       "<div>\n",
       "<style scoped>\n",
       "    .dataframe tbody tr th:only-of-type {\n",
       "        vertical-align: middle;\n",
       "    }\n",
       "\n",
       "    .dataframe tbody tr th {\n",
       "        vertical-align: top;\n",
       "    }\n",
       "\n",
       "    .dataframe thead th {\n",
       "        text-align: right;\n",
       "    }\n",
       "</style>\n",
       "<table border=\"1\" class=\"dataframe\">\n",
       "  <thead>\n",
       "    <tr style=\"text-align: right;\">\n",
       "      <th></th>\n",
       "      <th>ID</th>\n",
       "      <th>grade</th>\n",
       "    </tr>\n",
       "  </thead>\n",
       "  <tbody>\n",
       "    <tr>\n",
       "      <th>0</th>\n",
       "      <td>1</td>\n",
       "      <td>a</td>\n",
       "    </tr>\n",
       "    <tr>\n",
       "      <th>1</th>\n",
       "      <td>2</td>\n",
       "      <td>b</td>\n",
       "    </tr>\n",
       "    <tr>\n",
       "      <th>2</th>\n",
       "      <td>3</td>\n",
       "      <td>c</td>\n",
       "    </tr>\n",
       "    <tr>\n",
       "      <th>3</th>\n",
       "      <td>4</td>\n",
       "      <td>d</td>\n",
       "    </tr>\n",
       "    <tr>\n",
       "      <th>4</th>\n",
       "      <td>5</td>\n",
       "      <td>e</td>\n",
       "    </tr>\n",
       "    <tr>\n",
       "      <th>5</th>\n",
       "      <td>6</td>\n",
       "      <td>f</td>\n",
       "    </tr>\n",
       "  </tbody>\n",
       "</table>\n",
       "</div>"
      ],
      "text/plain": [
       "   ID grade\n",
       "0   1     a\n",
       "1   2     b\n",
       "2   3     c\n",
       "3   4     d\n",
       "4   5     e\n",
       "5   6     f"
      ]
     },
     "execution_count": 107,
     "metadata": {},
     "output_type": "execute_result"
    }
   ],
   "source": [
    "df"
   ]
  },
  {
   "cell_type": "code",
   "execution_count": 108,
   "id": "6b109ac1",
   "metadata": {},
   "outputs": [],
   "source": [
    "df['Grade'] = df['grade'].astype(\"category\")"
   ]
  },
  {
   "cell_type": "code",
   "execution_count": 109,
   "id": "eafbc15f",
   "metadata": {},
   "outputs": [
    {
     "data": {
      "text/html": [
       "<div>\n",
       "<style scoped>\n",
       "    .dataframe tbody tr th:only-of-type {\n",
       "        vertical-align: middle;\n",
       "    }\n",
       "\n",
       "    .dataframe tbody tr th {\n",
       "        vertical-align: top;\n",
       "    }\n",
       "\n",
       "    .dataframe thead th {\n",
       "        text-align: right;\n",
       "    }\n",
       "</style>\n",
       "<table border=\"1\" class=\"dataframe\">\n",
       "  <thead>\n",
       "    <tr style=\"text-align: right;\">\n",
       "      <th></th>\n",
       "      <th>ID</th>\n",
       "      <th>grade</th>\n",
       "      <th>Grade</th>\n",
       "    </tr>\n",
       "  </thead>\n",
       "  <tbody>\n",
       "    <tr>\n",
       "      <th>0</th>\n",
       "      <td>1</td>\n",
       "      <td>a</td>\n",
       "      <td>a</td>\n",
       "    </tr>\n",
       "    <tr>\n",
       "      <th>1</th>\n",
       "      <td>2</td>\n",
       "      <td>b</td>\n",
       "      <td>b</td>\n",
       "    </tr>\n",
       "    <tr>\n",
       "      <th>2</th>\n",
       "      <td>3</td>\n",
       "      <td>c</td>\n",
       "      <td>c</td>\n",
       "    </tr>\n",
       "    <tr>\n",
       "      <th>3</th>\n",
       "      <td>4</td>\n",
       "      <td>d</td>\n",
       "      <td>d</td>\n",
       "    </tr>\n",
       "    <tr>\n",
       "      <th>4</th>\n",
       "      <td>5</td>\n",
       "      <td>e</td>\n",
       "      <td>e</td>\n",
       "    </tr>\n",
       "    <tr>\n",
       "      <th>5</th>\n",
       "      <td>6</td>\n",
       "      <td>f</td>\n",
       "      <td>f</td>\n",
       "    </tr>\n",
       "  </tbody>\n",
       "</table>\n",
       "</div>"
      ],
      "text/plain": [
       "   ID grade Grade\n",
       "0   1     a     a\n",
       "1   2     b     b\n",
       "2   3     c     c\n",
       "3   4     d     d\n",
       "4   5     e     e\n",
       "5   6     f     f"
      ]
     },
     "execution_count": 109,
     "metadata": {},
     "output_type": "execute_result"
    }
   ],
   "source": [
    "df"
   ]
  },
  {
   "cell_type": "code",
   "execution_count": 110,
   "id": "8633a521",
   "metadata": {},
   "outputs": [
    {
     "data": {
      "text/plain": [
       "0    a\n",
       "1    b\n",
       "2    c\n",
       "3    d\n",
       "4    e\n",
       "5    f\n",
       "Name: Grade, dtype: category\n",
       "Categories (6, object): ['a', 'b', 'c', 'd', 'e', 'f']"
      ]
     },
     "execution_count": 110,
     "metadata": {},
     "output_type": "execute_result"
    }
   ],
   "source": [
    "df[\"Grade\"]"
   ]
  },
  {
   "cell_type": "code",
   "execution_count": 111,
   "id": "c8030aa8",
   "metadata": {},
   "outputs": [],
   "source": [
    "df[\"Grade\"].cat.categories = [\"very bad\", 'very good','excellent','outstanding','average','worse']"
   ]
  },
  {
   "cell_type": "code",
   "execution_count": 112,
   "id": "779a6e10",
   "metadata": {},
   "outputs": [
    {
     "data": {
      "text/html": [
       "<div>\n",
       "<style scoped>\n",
       "    .dataframe tbody tr th:only-of-type {\n",
       "        vertical-align: middle;\n",
       "    }\n",
       "\n",
       "    .dataframe tbody tr th {\n",
       "        vertical-align: top;\n",
       "    }\n",
       "\n",
       "    .dataframe thead th {\n",
       "        text-align: right;\n",
       "    }\n",
       "</style>\n",
       "<table border=\"1\" class=\"dataframe\">\n",
       "  <thead>\n",
       "    <tr style=\"text-align: right;\">\n",
       "      <th></th>\n",
       "      <th>ID</th>\n",
       "      <th>grade</th>\n",
       "      <th>Grade</th>\n",
       "    </tr>\n",
       "  </thead>\n",
       "  <tbody>\n",
       "    <tr>\n",
       "      <th>0</th>\n",
       "      <td>1</td>\n",
       "      <td>a</td>\n",
       "      <td>very bad</td>\n",
       "    </tr>\n",
       "    <tr>\n",
       "      <th>1</th>\n",
       "      <td>2</td>\n",
       "      <td>b</td>\n",
       "      <td>very good</td>\n",
       "    </tr>\n",
       "    <tr>\n",
       "      <th>2</th>\n",
       "      <td>3</td>\n",
       "      <td>c</td>\n",
       "      <td>excellent</td>\n",
       "    </tr>\n",
       "    <tr>\n",
       "      <th>3</th>\n",
       "      <td>4</td>\n",
       "      <td>d</td>\n",
       "      <td>outstanding</td>\n",
       "    </tr>\n",
       "    <tr>\n",
       "      <th>4</th>\n",
       "      <td>5</td>\n",
       "      <td>e</td>\n",
       "      <td>average</td>\n",
       "    </tr>\n",
       "    <tr>\n",
       "      <th>5</th>\n",
       "      <td>6</td>\n",
       "      <td>f</td>\n",
       "      <td>worse</td>\n",
       "    </tr>\n",
       "  </tbody>\n",
       "</table>\n",
       "</div>"
      ],
      "text/plain": [
       "   ID grade        Grade\n",
       "0   1     a     very bad\n",
       "1   2     b    very good\n",
       "2   3     c    excellent\n",
       "3   4     d  outstanding\n",
       "4   5     e      average\n",
       "5   6     f        worse"
      ]
     },
     "execution_count": 112,
     "metadata": {},
     "output_type": "execute_result"
    }
   ],
   "source": [
    "df"
   ]
  },
  {
   "cell_type": "code",
   "execution_count": 113,
   "id": "40b312d9",
   "metadata": {},
   "outputs": [],
   "source": [
    "df['Grade'] = df[\"Grade\"].cat.set_categories([\"very bad\", 'very good','excellent','outstanding','average','worse'])"
   ]
  },
  {
   "cell_type": "code",
   "execution_count": 114,
   "id": "c1aff330",
   "metadata": {},
   "outputs": [
    {
     "data": {
      "text/html": [
       "<div>\n",
       "<style scoped>\n",
       "    .dataframe tbody tr th:only-of-type {\n",
       "        vertical-align: middle;\n",
       "    }\n",
       "\n",
       "    .dataframe tbody tr th {\n",
       "        vertical-align: top;\n",
       "    }\n",
       "\n",
       "    .dataframe thead th {\n",
       "        text-align: right;\n",
       "    }\n",
       "</style>\n",
       "<table border=\"1\" class=\"dataframe\">\n",
       "  <thead>\n",
       "    <tr style=\"text-align: right;\">\n",
       "      <th></th>\n",
       "      <th>ID</th>\n",
       "      <th>grade</th>\n",
       "      <th>Grade</th>\n",
       "    </tr>\n",
       "  </thead>\n",
       "  <tbody>\n",
       "    <tr>\n",
       "      <th>0</th>\n",
       "      <td>1</td>\n",
       "      <td>a</td>\n",
       "      <td>very bad</td>\n",
       "    </tr>\n",
       "    <tr>\n",
       "      <th>1</th>\n",
       "      <td>2</td>\n",
       "      <td>b</td>\n",
       "      <td>very good</td>\n",
       "    </tr>\n",
       "    <tr>\n",
       "      <th>2</th>\n",
       "      <td>3</td>\n",
       "      <td>c</td>\n",
       "      <td>excellent</td>\n",
       "    </tr>\n",
       "    <tr>\n",
       "      <th>3</th>\n",
       "      <td>4</td>\n",
       "      <td>d</td>\n",
       "      <td>outstanding</td>\n",
       "    </tr>\n",
       "    <tr>\n",
       "      <th>4</th>\n",
       "      <td>5</td>\n",
       "      <td>e</td>\n",
       "      <td>average</td>\n",
       "    </tr>\n",
       "    <tr>\n",
       "      <th>5</th>\n",
       "      <td>6</td>\n",
       "      <td>f</td>\n",
       "      <td>worse</td>\n",
       "    </tr>\n",
       "  </tbody>\n",
       "</table>\n",
       "</div>"
      ],
      "text/plain": [
       "   ID grade        Grade\n",
       "0   1     a     very bad\n",
       "1   2     b    very good\n",
       "2   3     c    excellent\n",
       "3   4     d  outstanding\n",
       "4   5     e      average\n",
       "5   6     f        worse"
      ]
     },
     "execution_count": 114,
     "metadata": {},
     "output_type": "execute_result"
    }
   ],
   "source": [
    "df"
   ]
  },
  {
   "cell_type": "code",
   "execution_count": 115,
   "id": "3a40003a",
   "metadata": {},
   "outputs": [
    {
     "data": {
      "text/plain": [
       "0       very bad\n",
       "1      very good\n",
       "2      excellent\n",
       "3    outstanding\n",
       "4        average\n",
       "5          worse\n",
       "Name: Grade, dtype: category\n",
       "Categories (6, object): ['very bad', 'very good', 'excellent', 'outstanding', 'average', 'worse']"
      ]
     },
     "execution_count": 115,
     "metadata": {},
     "output_type": "execute_result"
    }
   ],
   "source": [
    "df[\"Grade\"]"
   ]
  },
  {
   "cell_type": "markdown",
   "id": "f6c4d4b8",
   "metadata": {},
   "source": [
    "## plotting using pandas"
   ]
  },
  {
   "cell_type": "code",
   "execution_count": 116,
   "id": "d080643e",
   "metadata": {},
   "outputs": [],
   "source": [
    "import matplotlib.pyplot as plt\n",
    "import pandas as pd\n",
    "import numpy as np"
   ]
  },
  {
   "cell_type": "code",
   "execution_count": 117,
   "id": "47ca3a81",
   "metadata": {},
   "outputs": [],
   "source": [
    "ts = pd.Series(np.random.randn(500), index = pd.date_range('1/2/2020', periods = 500))"
   ]
  },
  {
   "cell_type": "code",
   "execution_count": 118,
   "id": "c298cc3a",
   "metadata": {},
   "outputs": [],
   "source": [
    "ts = ts.cumsum()"
   ]
  },
  {
   "cell_type": "code",
   "execution_count": 119,
   "id": "cb682203",
   "metadata": {},
   "outputs": [
    {
     "data": {
      "text/plain": [
       "2020-01-02    -1.251454\n",
       "2020-01-03     0.179048\n",
       "2020-01-04    -1.094748\n",
       "2020-01-05     0.056747\n",
       "2020-01-06     0.267914\n",
       "                ...    \n",
       "2021-05-11   -24.990440\n",
       "2021-05-12   -26.425116\n",
       "2021-05-13   -28.995922\n",
       "2021-05-14   -29.428122\n",
       "2021-05-15   -29.556971\n",
       "Freq: D, Length: 500, dtype: float64"
      ]
     },
     "execution_count": 119,
     "metadata": {},
     "output_type": "execute_result"
    }
   ],
   "source": [
    "ts"
   ]
  },
  {
   "cell_type": "code",
   "execution_count": 120,
   "id": "8001ef89",
   "metadata": {},
   "outputs": [
    {
     "data": {
      "text/plain": [
       "<AxesSubplot:>"
      ]
     },
     "execution_count": 120,
     "metadata": {},
     "output_type": "execute_result"
    },
    {
     "data": {
      "image/png": "[encoded data removed]",
      "text/plain": [
       "<Figure size 432x288 with 1 Axes>"
      ]
     },
     "metadata": {
      "needs_background": "light"
     },
     "output_type": "display_data"
    }
   ],
   "source": [
    "ts.plot()"
   ]
  },
  {
   "cell_type": "markdown",
   "id": "a5fc04b5",
   "metadata": {},
   "source": [
    "## Operating on file"
   ]
  },
  {
   "cell_type": "code",
   "execution_count": 121,
   "id": "e50f2ff3",
   "metadata": {},
   "outputs": [
    {
     "data": {
      "text/html": [
       "<div>\n",
       "<style scoped>\n",
       "    .dataframe tbody tr th:only-of-type {\n",
       "        vertical-align: middle;\n",
       "    }\n",
       "\n",
       "    .dataframe tbody tr th {\n",
       "        vertical-align: top;\n",
       "    }\n",
       "\n",
       "    .dataframe thead th {\n",
       "        text-align: right;\n",
       "    }\n",
       "</style>\n",
       "<table border=\"1\" class=\"dataframe\">\n",
       "  <thead>\n",
       "    <tr style=\"text-align: right;\">\n",
       "      <th></th>\n",
       "      <th>John</th>\n",
       "      <th>Doe</th>\n",
       "      <th>120 jefferson st.</th>\n",
       "      <th>Riverside</th>\n",
       "      <th>NJ</th>\n",
       "      <th>08075</th>\n",
       "    </tr>\n",
       "  </thead>\n",
       "  <tbody>\n",
       "    <tr>\n",
       "      <th>0</th>\n",
       "      <td>Jack</td>\n",
       "      <td>McGinnis</td>\n",
       "      <td>220 hobo Av.</td>\n",
       "      <td>Phila</td>\n",
       "      <td>PA</td>\n",
       "      <td>9119</td>\n",
       "    </tr>\n",
       "    <tr>\n",
       "      <th>1</th>\n",
       "      <td>John \"Da Man\"</td>\n",
       "      <td>Repici</td>\n",
       "      <td>120 Jefferson St.</td>\n",
       "      <td>Riverside</td>\n",
       "      <td>NJ</td>\n",
       "      <td>8075</td>\n",
       "    </tr>\n",
       "    <tr>\n",
       "      <th>2</th>\n",
       "      <td>Stephen</td>\n",
       "      <td>Tyler</td>\n",
       "      <td>7452 Terrace \"At the Plaza\" road</td>\n",
       "      <td>SomeTown</td>\n",
       "      <td>SD</td>\n",
       "      <td>91234</td>\n",
       "    </tr>\n",
       "    <tr>\n",
       "      <th>3</th>\n",
       "      <td>NaN</td>\n",
       "      <td>Blankman</td>\n",
       "      <td>NaN</td>\n",
       "      <td>SomeTown</td>\n",
       "      <td>SD</td>\n",
       "      <td>298</td>\n",
       "    </tr>\n",
       "    <tr>\n",
       "      <th>4</th>\n",
       "      <td>Joan \"the bone\", Anne</td>\n",
       "      <td>Jet</td>\n",
       "      <td>9th, at Terrace plc</td>\n",
       "      <td>Desert City</td>\n",
       "      <td>CO</td>\n",
       "      <td>123</td>\n",
       "    </tr>\n",
       "  </tbody>\n",
       "</table>\n",
       "</div>"
      ],
      "text/plain": [
       "                    John       Doe                 120 jefferson st.  \\\n",
       "0                   Jack  McGinnis                      220 hobo Av.   \n",
       "1          John \"Da Man\"    Repici                 120 Jefferson St.   \n",
       "2                Stephen     Tyler  7452 Terrace \"At the Plaza\" road   \n",
       "3                    NaN  Blankman                               NaN   \n",
       "4  Joan \"the bone\", Anne       Jet               9th, at Terrace plc   \n",
       "\n",
       "     Riverside   NJ   08075  \n",
       "0        Phila   PA    9119  \n",
       "1    Riverside   NJ    8075  \n",
       "2     SomeTown   SD   91234  \n",
       "3     SomeTown   SD     298  \n",
       "4  Desert City   CO     123  "
      ]
     },
     "execution_count": 121,
     "metadata": {},
     "output_type": "execute_result"
    }
   ],
   "source": [
    "pd.read_csv('addresses.csv')"
   ]
  }
 ],
 "metadata": {
  "kernelspec": {
   "display_name": "Python 3 (ipykernel)",
   "language": "python",
   "name": "python3"
  },
  "language_info": {
   "codemirror_mode": {
    "name": "ipython",
    "version": 3
   },
   "file_extension": ".py",
   "mimetype": "text/x-python",
   "name": "python",
   "nbconvert_exporter": "python",
   "pygments_lexer": "ipython3",
   "version": "3.9.7"
  }
 },
 "nbformat": 4,
 "nbformat_minor": 5
}
